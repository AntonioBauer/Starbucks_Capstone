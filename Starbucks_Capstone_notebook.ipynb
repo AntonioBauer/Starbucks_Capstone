{
 "cells": [
  {
   "cell_type": "markdown",
   "metadata": {},
   "source": [
    "# Starbucks Capstone Challenge\n",
    "\n",
    "### Introduction\n",
    "\n",
    "This data set contains simulated data that mimics customer behavior on the Starbucks rewards mobile app. Once every few days, Starbucks sends out an offer to users of the mobile app. An offer can be merely an advertisement for a drink or an actual offer such as a discount or BOGO (buy one get one free). Some users might not receive any offer during certain weeks. \n",
    "\n",
    "Not all users receive the same offer, and that is the challenge to solve with this data set.\n",
    "\n",
    "Your task is to combine transaction, demographic and offer data to determine which demographic groups respond best to which offer type. This data set is a simplified version of the real Starbucks app because the underlying simulator only has one product whereas Starbucks actually sells dozens of products.\n",
    "\n",
    "Every offer has a validity period before the offer expires. As an example, a BOGO offer might be valid for only 5 days. You'll see in the data set that informational offers have a validity period even though these ads are merely providing information about a product; for example, if an informational offer has 7 days of validity, you can assume the customer is feeling the influence of the offer for 7 days after receiving the advertisement.\n",
    "\n",
    "You'll be given transactional data showing user purchases made on the app including the timestamp of purchase and the amount of money spent on a purchase. This transactional data also has a record for each offer that a user receives as well as a record for when a user actually views the offer. There are also records for when a user completes an offer. \n",
    "\n",
    "Keep in mind as well that someone using the app might make a purchase through the app without having received an offer or seen an offer.\n",
    "\n",
    "### Example\n",
    "\n",
    "To give an example, a user could receive a discount offer buy 10 dollars get 2 off on Monday. The offer is valid for 10 days from receipt. If the customer accumulates at least 10 dollars in purchases during the validity period, the customer completes the offer.\n",
    "\n",
    "However, there are a few things to watch out for in this data set. Customers do not opt into the offers that they receive; in other words, a user can receive an offer, never actually view the offer, and still complete the offer. For example, a user might receive the \"buy 10 dollars get 2 dollars off offer\", but the user never opens the offer during the 10 day validity period. The customer spends 15 dollars during those ten days. There will be an offer completion record in the data set; however, the customer was not influenced by the offer because the customer never viewed the offer.\n",
    "\n",
    "### Cleaning\n",
    "\n",
    "This makes data cleaning especially important and tricky.\n",
    "\n",
    "You'll also want to take into account that some demographic groups will make purchases even if they don't receive an offer. From a business perspective, if a customer is going to make a 10 dollar purchase without an offer anyway, you wouldn't want to send a buy 10 dollars get 2 dollars off offer. You'll want to try to assess what a certain demographic group will buy when not receiving any offers.\n",
    "\n",
    "### Final Advice\n",
    "\n",
    "Because this is a capstone project, you are free to analyze the data any way you see fit. For example, you could build a machine learning model that predicts how much someone will spend based on demographics and offer type. Or you could build a model that predicts whether or not someone will respond to an offer. Or, you don't need to build a machine learning model at all. You could develop a set of heuristics that determine what offer you should send to each customer (i.e., 75 percent of women customers who were 35 years old responded to offer A vs 40 percent from the same demographic to offer B, so send offer A)."
   ]
  },
  {
   "cell_type": "markdown",
   "metadata": {},
   "source": [
    "# Data Sets\n",
    "\n",
    "The data is contained in three files:\n",
    "\n",
    "* portfolio.json - containing offer ids and meta data about each offer (duration, type, etc.)\n",
    "* profile.json - demographic data for each customer\n",
    "* transcript.json - records for transactions, offers received, offers viewed, and offers completed\n",
    "\n",
    "Here is the schema and explanation of each variable in the files:\n",
    "\n",
    "**portfolio.json**\n",
    "* id (string) - offer id\n",
    "* offer_type (string) - type of offer ie BOGO, discount, informational\n",
    "* difficulty (int) - minimum required spend to complete an offer\n",
    "* reward (int) - reward given for completing an offer\n",
    "* duration (int) - time for offer to be open, in days\n",
    "* channels (list of strings)\n",
    "\n",
    "**profile.json**\n",
    "* age (int) - age of the customer \n",
    "* became_member_on (int) - date when customer created an app account\n",
    "* gender (str) - gender of the customer (note some entries contain 'O' for other rather than M or F)\n",
    "* id (str) - customer id\n",
    "* income (float) - customer's income\n",
    "\n",
    "**transcript.json**\n",
    "* event (str) - record description (ie transaction, offer received, offer viewed, etc.)\n",
    "* person (str) - customer id\n",
    "* time (int) - time in hours since start of test. The data begins at time t=0\n",
    "* value - (dict of strings) - either an offer id or transaction amount depending on the record\n",
    "\n",
    "**Note:** If you are using the workspace, you will need to go to the terminal and run the command `conda update pandas` before reading in the files. This is because the version of pandas in the workspace cannot read in the transcript.json file correctly, but the newest version of pandas can. You can access the termnal from the orange icon in the top left of this notebook.  \n",
    "\n",
    "You can see how to access the terminal and how the install works using the two images below.  First you need to access the terminal:\n",
    "\n",
    "<img src=\"pic1.png\"/>\n",
    "\n",
    "Then you will want to run the above command:\n",
    "\n",
    "<img src=\"pic2.png\"/>\n",
    "\n",
    "Finally, when you enter back into the notebook (use the jupyter icon again), you should be able to run the below cell without any errors."
   ]
  },
  {
   "cell_type": "code",
   "execution_count": 1,
   "metadata": {},
   "outputs": [],
   "source": [
    "import pandas as pd\n",
    "import numpy as np\n",
    "import math\n",
    "import json\n",
    "import datetime\n",
    "import matplotlib.pyplot as plt\n",
    "from sklearn import preprocessing\n",
    "from sklearn.model_selection import train_test_split\n",
    "from sklearn.ensemble import RandomForestClassifier\n",
    "from sklearn.ensemble import GradientBoostingClassifier\n",
    "from sklearn.model_selection import GridSearchCV\n",
    "from sklearn.metrics import accuracy_score, precision_score, recall_score, f1_score\n",
    "% matplotlib inline\n",
    "\n",
    "# read in the json files\n",
    "portfolio = pd.read_json('data/portfolio.json', orient='records', lines=True)\n",
    "profile = pd.read_json('data/profile.json', orient='records', lines=True)\n",
    "transcript = pd.read_json('data/transcript.json', orient='records', lines=True)"
   ]
  },
  {
   "cell_type": "markdown",
   "metadata": {},
   "source": [
    "# 1. Gather Data\n",
    "\n",
    "### In this chapter the required data is gathered and briefly analyzed."
   ]
  },
  {
   "cell_type": "code",
   "execution_count": 2,
   "metadata": {},
   "outputs": [
    {
     "data": {
      "text/html": [
       "<div>\n",
       "<style scoped>\n",
       "    .dataframe tbody tr th:only-of-type {\n",
       "        vertical-align: middle;\n",
       "    }\n",
       "\n",
       "    .dataframe tbody tr th {\n",
       "        vertical-align: top;\n",
       "    }\n",
       "\n",
       "    .dataframe thead th {\n",
       "        text-align: right;\n",
       "    }\n",
       "</style>\n",
       "<table border=\"1\" class=\"dataframe\">\n",
       "  <thead>\n",
       "    <tr style=\"text-align: right;\">\n",
       "      <th></th>\n",
       "      <th>channels</th>\n",
       "      <th>difficulty</th>\n",
       "      <th>duration</th>\n",
       "      <th>id</th>\n",
       "      <th>offer_type</th>\n",
       "      <th>reward</th>\n",
       "    </tr>\n",
       "  </thead>\n",
       "  <tbody>\n",
       "    <tr>\n",
       "      <th>0</th>\n",
       "      <td>[email, mobile, social]</td>\n",
       "      <td>10</td>\n",
       "      <td>7</td>\n",
       "      <td>ae264e3637204a6fb9bb56bc8210ddfd</td>\n",
       "      <td>bogo</td>\n",
       "      <td>10</td>\n",
       "    </tr>\n",
       "    <tr>\n",
       "      <th>1</th>\n",
       "      <td>[web, email, mobile, social]</td>\n",
       "      <td>10</td>\n",
       "      <td>5</td>\n",
       "      <td>4d5c57ea9a6940dd891ad53e9dbe8da0</td>\n",
       "      <td>bogo</td>\n",
       "      <td>10</td>\n",
       "    </tr>\n",
       "    <tr>\n",
       "      <th>2</th>\n",
       "      <td>[web, email, mobile]</td>\n",
       "      <td>0</td>\n",
       "      <td>4</td>\n",
       "      <td>3f207df678b143eea3cee63160fa8bed</td>\n",
       "      <td>informational</td>\n",
       "      <td>0</td>\n",
       "    </tr>\n",
       "  </tbody>\n",
       "</table>\n",
       "</div>"
      ],
      "text/plain": [
       "                       channels  difficulty  duration  \\\n",
       "0       [email, mobile, social]          10         7   \n",
       "1  [web, email, mobile, social]          10         5   \n",
       "2          [web, email, mobile]           0         4   \n",
       "\n",
       "                                 id     offer_type  reward  \n",
       "0  ae264e3637204a6fb9bb56bc8210ddfd           bogo      10  \n",
       "1  4d5c57ea9a6940dd891ad53e9dbe8da0           bogo      10  \n",
       "2  3f207df678b143eea3cee63160fa8bed  informational       0  "
      ]
     },
     "execution_count": 2,
     "metadata": {},
     "output_type": "execute_result"
    }
   ],
   "source": [
    "portfolio.head(3)"
   ]
  },
  {
   "cell_type": "code",
   "execution_count": 3,
   "metadata": {},
   "outputs": [
    {
     "data": {
      "text/html": [
       "<div>\n",
       "<style scoped>\n",
       "    .dataframe tbody tr th:only-of-type {\n",
       "        vertical-align: middle;\n",
       "    }\n",
       "\n",
       "    .dataframe tbody tr th {\n",
       "        vertical-align: top;\n",
       "    }\n",
       "\n",
       "    .dataframe thead th {\n",
       "        text-align: right;\n",
       "    }\n",
       "</style>\n",
       "<table border=\"1\" class=\"dataframe\">\n",
       "  <thead>\n",
       "    <tr style=\"text-align: right;\">\n",
       "      <th></th>\n",
       "      <th>age</th>\n",
       "      <th>became_member_on</th>\n",
       "      <th>gender</th>\n",
       "      <th>id</th>\n",
       "      <th>income</th>\n",
       "    </tr>\n",
       "  </thead>\n",
       "  <tbody>\n",
       "    <tr>\n",
       "      <th>0</th>\n",
       "      <td>118</td>\n",
       "      <td>20170212</td>\n",
       "      <td>None</td>\n",
       "      <td>68be06ca386d4c31939f3a4f0e3dd783</td>\n",
       "      <td>NaN</td>\n",
       "    </tr>\n",
       "    <tr>\n",
       "      <th>1</th>\n",
       "      <td>55</td>\n",
       "      <td>20170715</td>\n",
       "      <td>F</td>\n",
       "      <td>0610b486422d4921ae7d2bf64640c50b</td>\n",
       "      <td>112000.0</td>\n",
       "    </tr>\n",
       "    <tr>\n",
       "      <th>2</th>\n",
       "      <td>118</td>\n",
       "      <td>20180712</td>\n",
       "      <td>None</td>\n",
       "      <td>38fe809add3b4fcf9315a9694bb96ff5</td>\n",
       "      <td>NaN</td>\n",
       "    </tr>\n",
       "  </tbody>\n",
       "</table>\n",
       "</div>"
      ],
      "text/plain": [
       "   age  became_member_on gender                                id    income\n",
       "0  118          20170212   None  68be06ca386d4c31939f3a4f0e3dd783       NaN\n",
       "1   55          20170715      F  0610b486422d4921ae7d2bf64640c50b  112000.0\n",
       "2  118          20180712   None  38fe809add3b4fcf9315a9694bb96ff5       NaN"
      ]
     },
     "execution_count": 3,
     "metadata": {},
     "output_type": "execute_result"
    }
   ],
   "source": [
    "profile.head(3)"
   ]
  },
  {
   "cell_type": "code",
   "execution_count": 4,
   "metadata": {},
   "outputs": [
    {
     "data": {
      "text/html": [
       "<div>\n",
       "<style scoped>\n",
       "    .dataframe tbody tr th:only-of-type {\n",
       "        vertical-align: middle;\n",
       "    }\n",
       "\n",
       "    .dataframe tbody tr th {\n",
       "        vertical-align: top;\n",
       "    }\n",
       "\n",
       "    .dataframe thead th {\n",
       "        text-align: right;\n",
       "    }\n",
       "</style>\n",
       "<table border=\"1\" class=\"dataframe\">\n",
       "  <thead>\n",
       "    <tr style=\"text-align: right;\">\n",
       "      <th></th>\n",
       "      <th>event</th>\n",
       "      <th>person</th>\n",
       "      <th>time</th>\n",
       "      <th>value</th>\n",
       "    </tr>\n",
       "  </thead>\n",
       "  <tbody>\n",
       "    <tr>\n",
       "      <th>0</th>\n",
       "      <td>offer received</td>\n",
       "      <td>78afa995795e4d85b5d9ceeca43f5fef</td>\n",
       "      <td>0</td>\n",
       "      <td>{'offer id': '9b98b8c7a33c4b65b9aebfe6a799e6d9'}</td>\n",
       "    </tr>\n",
       "    <tr>\n",
       "      <th>1</th>\n",
       "      <td>offer received</td>\n",
       "      <td>a03223e636434f42ac4c3df47e8bac43</td>\n",
       "      <td>0</td>\n",
       "      <td>{'offer id': '0b1e1539f2cc45b7b9fa7c272da2e1d7'}</td>\n",
       "    </tr>\n",
       "    <tr>\n",
       "      <th>2</th>\n",
       "      <td>offer received</td>\n",
       "      <td>e2127556f4f64592b11af22de27a7932</td>\n",
       "      <td>0</td>\n",
       "      <td>{'offer id': '2906b810c7d4411798c6938adc9daaa5'}</td>\n",
       "    </tr>\n",
       "  </tbody>\n",
       "</table>\n",
       "</div>"
      ],
      "text/plain": [
       "            event                            person  time  \\\n",
       "0  offer received  78afa995795e4d85b5d9ceeca43f5fef     0   \n",
       "1  offer received  a03223e636434f42ac4c3df47e8bac43     0   \n",
       "2  offer received  e2127556f4f64592b11af22de27a7932     0   \n",
       "\n",
       "                                              value  \n",
       "0  {'offer id': '9b98b8c7a33c4b65b9aebfe6a799e6d9'}  \n",
       "1  {'offer id': '0b1e1539f2cc45b7b9fa7c272da2e1d7'}  \n",
       "2  {'offer id': '2906b810c7d4411798c6938adc9daaa5'}  "
      ]
     },
     "execution_count": 4,
     "metadata": {},
     "output_type": "execute_result"
    }
   ],
   "source": [
    "transcript.head(3)"
   ]
  },
  {
   "cell_type": "code",
   "execution_count": 5,
   "metadata": {},
   "outputs": [
    {
     "name": "stdout",
     "output_type": "stream",
     "text": [
      "<class 'pandas.core.frame.DataFrame'>\n",
      "RangeIndex: 17000 entries, 0 to 16999\n",
      "Data columns (total 5 columns):\n",
      "age                 17000 non-null int64\n",
      "became_member_on    17000 non-null int64\n",
      "gender              14825 non-null object\n",
      "id                  17000 non-null object\n",
      "income              14825 non-null float64\n",
      "dtypes: float64(1), int64(2), object(2)\n",
      "memory usage: 664.1+ KB\n"
     ]
    }
   ],
   "source": [
    "# 2,175 NULL values present in columns 'gender' and 'income'\n",
    "profile.info()"
   ]
  },
  {
   "cell_type": "code",
   "execution_count": 6,
   "metadata": {},
   "outputs": [
    {
     "data": {
      "text/html": [
       "<div>\n",
       "<style scoped>\n",
       "    .dataframe tbody tr th:only-of-type {\n",
       "        vertical-align: middle;\n",
       "    }\n",
       "\n",
       "    .dataframe tbody tr th {\n",
       "        vertical-align: top;\n",
       "    }\n",
       "\n",
       "    .dataframe thead th {\n",
       "        text-align: right;\n",
       "    }\n",
       "</style>\n",
       "<table border=\"1\" class=\"dataframe\">\n",
       "  <thead>\n",
       "    <tr style=\"text-align: right;\">\n",
       "      <th></th>\n",
       "      <th>age</th>\n",
       "      <th>became_member_on</th>\n",
       "      <th>income</th>\n",
       "    </tr>\n",
       "  </thead>\n",
       "  <tbody>\n",
       "    <tr>\n",
       "      <th>count</th>\n",
       "      <td>17000.000000</td>\n",
       "      <td>1.700000e+04</td>\n",
       "      <td>14825.000000</td>\n",
       "    </tr>\n",
       "    <tr>\n",
       "      <th>mean</th>\n",
       "      <td>62.531412</td>\n",
       "      <td>2.016703e+07</td>\n",
       "      <td>65404.991568</td>\n",
       "    </tr>\n",
       "    <tr>\n",
       "      <th>std</th>\n",
       "      <td>26.738580</td>\n",
       "      <td>1.167750e+04</td>\n",
       "      <td>21598.299410</td>\n",
       "    </tr>\n",
       "    <tr>\n",
       "      <th>min</th>\n",
       "      <td>18.000000</td>\n",
       "      <td>2.013073e+07</td>\n",
       "      <td>30000.000000</td>\n",
       "    </tr>\n",
       "    <tr>\n",
       "      <th>25%</th>\n",
       "      <td>45.000000</td>\n",
       "      <td>2.016053e+07</td>\n",
       "      <td>49000.000000</td>\n",
       "    </tr>\n",
       "    <tr>\n",
       "      <th>50%</th>\n",
       "      <td>58.000000</td>\n",
       "      <td>2.017080e+07</td>\n",
       "      <td>64000.000000</td>\n",
       "    </tr>\n",
       "    <tr>\n",
       "      <th>75%</th>\n",
       "      <td>73.000000</td>\n",
       "      <td>2.017123e+07</td>\n",
       "      <td>80000.000000</td>\n",
       "    </tr>\n",
       "    <tr>\n",
       "      <th>max</th>\n",
       "      <td>118.000000</td>\n",
       "      <td>2.018073e+07</td>\n",
       "      <td>120000.000000</td>\n",
       "    </tr>\n",
       "  </tbody>\n",
       "</table>\n",
       "</div>"
      ],
      "text/plain": [
       "                age  became_member_on         income\n",
       "count  17000.000000      1.700000e+04   14825.000000\n",
       "mean      62.531412      2.016703e+07   65404.991568\n",
       "std       26.738580      1.167750e+04   21598.299410\n",
       "min       18.000000      2.013073e+07   30000.000000\n",
       "25%       45.000000      2.016053e+07   49000.000000\n",
       "50%       58.000000      2.017080e+07   64000.000000\n",
       "75%       73.000000      2.017123e+07   80000.000000\n",
       "max      118.000000      2.018073e+07  120000.000000"
      ]
     },
     "execution_count": 6,
     "metadata": {},
     "output_type": "execute_result"
    }
   ],
   "source": [
    "# max age of 118 years might be an outlier\n",
    "profile.describe()"
   ]
  },
  {
   "cell_type": "code",
   "execution_count": 7,
   "metadata": {},
   "outputs": [
    {
     "data": {
      "image/png": "[encoded data removed]",
      "text/plain": [
       "<matplotlib.figure.Figure at 0x7fbf06dcc400>"
      ]
     },
     "metadata": {
      "needs_background": "light"
     },
     "output_type": "display_data"
    }
   ],
   "source": [
    "# distribution of the 'age' column including the mean of 'age'\n",
    "profile['age'].hist()\n",
    "plt.axvline(profile['age'].mean(), color='k', linestyle='dashed', linewidth=2);"
   ]
  },
  {
   "cell_type": "code",
   "execution_count": 8,
   "metadata": {},
   "outputs": [
    {
     "data": {
      "image/png": "[encoded data removed]",
      "text/plain": [
       "<matplotlib.figure.Figure at 0x7fbf06de0e10>"
      ]
     },
     "metadata": {
      "needs_background": "light"
     },
     "output_type": "display_data"
    }
   ],
   "source": [
    "# distribution of 'age' greater than or equal to 100\n",
    "profile[profile['age'] >= 100]['age'].hist();"
   ]
  },
  {
   "cell_type": "code",
   "execution_count": 9,
   "metadata": {},
   "outputs": [
    {
     "data": {
      "text/plain": [
       "2175"
      ]
     },
     "execution_count": 9,
     "metadata": {},
     "output_type": "execute_result"
    }
   ],
   "source": [
    "# count of 'user_ids' where 'age' is greate than or equal to 110.\n",
    "# 2,175 users have an age of equal or mare than 110 which doesn't see valid \n",
    "profile[profile['age'] >= 110]['age'].count()"
   ]
  },
  {
   "cell_type": "code",
   "execution_count": 10,
   "metadata": {},
   "outputs": [
    {
     "name": "stdout",
     "output_type": "stream",
     "text": [
      "20130729\n",
      "20180726\n"
     ]
    },
    {
     "data": {
      "text/plain": [
       "(None, None)"
      ]
     },
     "execution_count": 10,
     "metadata": {},
     "output_type": "execute_result"
    }
   ],
   "source": [
    "# the first sign up was on July 29th 2013 and the most recent sign up was on July 26th 2018\n",
    "print(profile['became_member_on'].min()), print(profile['became_member_on'].max())"
   ]
  },
  {
   "cell_type": "code",
   "execution_count": 11,
   "metadata": {},
   "outputs": [
    {
     "data": {
      "image/png": "[encoded data removed]",
      "text/plain": [
       "<matplotlib.figure.Figure at 0x7fbf06d8a3c8>"
      ]
     },
     "metadata": {
      "needs_background": "light"
     },
     "output_type": "display_data"
    }
   ],
   "source": [
    "# distribution of the 'became_member_on' column\n",
    "profile['became_member_on'].hist();"
   ]
  },
  {
   "cell_type": "code",
   "execution_count": 12,
   "metadata": {},
   "outputs": [
    {
     "data": {
      "image/png": "[encoded data removed]",
      "text/plain": [
       "<matplotlib.figure.Figure at 0x7fbf06d5a2e8>"
      ]
     },
     "metadata": {
      "needs_background": "light"
     },
     "output_type": "display_data"
    }
   ],
   "source": [
    "# distribution of the 'income' column\n",
    "profile['income'].hist();"
   ]
  },
  {
   "cell_type": "code",
   "execution_count": 13,
   "metadata": {},
   "outputs": [
    {
     "data": {
      "text/plain": [
       "M    8484\n",
       "F    6129\n",
       "O     212\n",
       "Name: gender, dtype: int64"
      ]
     },
     "execution_count": 13,
     "metadata": {},
     "output_type": "execute_result"
    }
   ],
   "source": [
    "# count by 'gender'\n",
    "profile['gender'].value_counts()"
   ]
  },
  {
   "cell_type": "code",
   "execution_count": 14,
   "metadata": {},
   "outputs": [
    {
     "name": "stdout",
     "output_type": "stream",
     "text": [
      "<class 'pandas.core.frame.DataFrame'>\n",
      "RangeIndex: 306534 entries, 0 to 306533\n",
      "Data columns (total 4 columns):\n",
      "event     306534 non-null object\n",
      "person    306534 non-null object\n",
      "time      306534 non-null int64\n",
      "value     306534 non-null object\n",
      "dtypes: int64(1), object(3)\n",
      "memory usage: 9.4+ MB\n"
     ]
    }
   ],
   "source": [
    "transcript.info()"
   ]
  },
  {
   "cell_type": "code",
   "execution_count": 15,
   "metadata": {},
   "outputs": [
    {
     "data": {
      "text/plain": [
       "transaction        138953\n",
       "offer received      76277\n",
       "offer viewed        57725\n",
       "offer completed     33579\n",
       "Name: event, dtype: int64"
      ]
     },
     "execution_count": 15,
     "metadata": {},
     "output_type": "execute_result"
    }
   ],
   "source": [
    "# counts by 'event'\n",
    "transcript['event'].value_counts()"
   ]
  },
  {
   "cell_type": "code",
   "execution_count": 16,
   "metadata": {},
   "outputs": [
    {
     "data": {
      "image/png": "[encoded data removed]",
      "text/plain": [
       "<matplotlib.figure.Figure at 0x7fbf06d15400>"
      ]
     },
     "metadata": {
      "needs_background": "light"
     },
     "output_type": "display_data"
    }
   ],
   "source": [
    "transcript['time'].hist();"
   ]
  },
  {
   "cell_type": "markdown",
   "metadata": {},
   "source": [
    "# 2. Clean Data\n",
    "### In this chapter the required data is cleaned to provide meaningful insights in the Exploratory Analysis later."
   ]
  },
  {
   "cell_type": "markdown",
   "metadata": {},
   "source": [
    "### 2.1 Clean 'portfolio' DataFrame"
   ]
  },
  {
   "cell_type": "code",
   "execution_count": 17,
   "metadata": {},
   "outputs": [],
   "source": [
    "# create a copy of the original DataFrame\n",
    "portfolio_clean = portfolio.copy()"
   ]
  },
  {
   "cell_type": "code",
   "execution_count": 18,
   "metadata": {},
   "outputs": [],
   "source": [
    "# create dummy variables for 'offer_type'\n",
    "offer_type_dummy = pd.get_dummies(portfolio_clean['offer_type'])\n",
    "# concatenate DataFrame 'portfolio' and offer_type_dummy\n",
    "portfolio_clean = pd.concat([portfolio_clean, offer_type_dummy], axis = 1)"
   ]
  },
  {
   "cell_type": "code",
   "execution_count": 19,
   "metadata": {},
   "outputs": [],
   "source": [
    "# create dummy variables for 'channels'\n",
    "channel_dummy = portfolio_clean['channels'].map(lambda x: ','.join(map(str, x))).str.get_dummies(sep=',')\n",
    "# concatenate DataFrame 'portfolio' and channel_dummy\n",
    "portfolio_clean = pd.concat([portfolio_clean, channel_dummy], axis = 1)"
   ]
  },
  {
   "cell_type": "code",
   "execution_count": 20,
   "metadata": {},
   "outputs": [],
   "source": [
    "# convert column 'duration' from days to hours to match with 'transcript' DataFrame\n",
    "portfolio_clean['duration'] = portfolio_clean['duration'] * 24"
   ]
  },
  {
   "cell_type": "code",
   "execution_count": 21,
   "metadata": {},
   "outputs": [],
   "source": [
    "# rename column 'id' to 'offer_id'\n",
    "portfolio_clean.rename(columns = {'id':'offer_id'}, inplace = True)"
   ]
  },
  {
   "cell_type": "code",
   "execution_count": 22,
   "metadata": {},
   "outputs": [],
   "source": [
    "# create offer_name based on offer_type, 'difficulty', and 'duration'\n",
    "portfolio_clean['offer_name'] = portfolio_clean['offer_type'].astype(str) + '_' + portfolio_clean['difficulty'].astype(str) + '_' + portfolio_clean['duration'].astype(str)"
   ]
  },
  {
   "cell_type": "markdown",
   "metadata": {},
   "source": [
    "### 2.2 Clean 'profile' DataFrame"
   ]
  },
  {
   "cell_type": "code",
   "execution_count": 23,
   "metadata": {},
   "outputs": [],
   "source": [
    "# create a copy of the original DataFrame\n",
    "profile_clean = profile.copy()"
   ]
  },
  {
   "cell_type": "code",
   "execution_count": 24,
   "metadata": {},
   "outputs": [],
   "source": [
    "# store ids of user with an age of 110 and higher in variable age_110 to be able to delete these rows from other DataFrames later\n",
    "age_110 = profile_clean[profile_clean['age'] >= 110]['id']"
   ]
  },
  {
   "cell_type": "code",
   "execution_count": 25,
   "metadata": {},
   "outputs": [],
   "source": [
    "# drop rows where age is higher than 110 years\n",
    "profile_clean.drop(profile_clean[profile_clean['age'] >= 110].index, inplace = True) "
   ]
  },
  {
   "cell_type": "code",
   "execution_count": 26,
   "metadata": {},
   "outputs": [],
   "source": [
    "# convert from integer to datetime64\n",
    "profile_clean['became_member_on'] = profile_clean['became_member_on'].apply(lambda x: pd.to_datetime(str(x), format='%Y%m%d'))"
   ]
  },
  {
   "cell_type": "code",
   "execution_count": 27,
   "metadata": {},
   "outputs": [],
   "source": [
    "# year of 'became_member_on' date\n",
    "profile_clean['became_member_year'] = profile_clean['became_member_on'].dt.year"
   ]
  },
  {
   "cell_type": "code",
   "execution_count": 28,
   "metadata": {},
   "outputs": [],
   "source": [
    "# days between today and 'became_member_on' date\n",
    "profile_clean['member_days'] = datetime.datetime.now() - profile_clean['became_member_on']\n",
    "profile_clean['member_days'] = profile_clean['member_days'].dt.days"
   ]
  },
  {
   "cell_type": "code",
   "execution_count": 29,
   "metadata": {},
   "outputs": [],
   "source": [
    "# create variables for 'gender'\n",
    "gender_dummy = pd.get_dummies(profile_clean['gender'])\n",
    "# concatenate DataFrame 'profile' and gender_dummy\n",
    "profile_clean = pd.concat([profile_clean, gender_dummy], axis = 1)"
   ]
  },
  {
   "cell_type": "code",
   "execution_count": 30,
   "metadata": {},
   "outputs": [],
   "source": [
    "# create dummy variables that represent the century of the customer's age\n",
    "def add_year_decade(val):\n",
    "    val = str(val)\n",
    "    if val[0] == yr:\n",
    "        return 1\n",
    "    else:\n",
    "        return 0\n",
    "    \n",
    "for yr in ['1', '2', '3', '4', '5', '6', '7', '8', '9', '10']:\n",
    "    profile_clean[str(yr) + \"0s\"] = profile_clean['age'].apply(add_year_decade)"
   ]
  },
  {
   "cell_type": "code",
   "execution_count": 31,
   "metadata": {},
   "outputs": [],
   "source": [
    "# rename 'id' to 'user_id'\n",
    "profile_clean.rename(columns = {'id':'user_id'}, inplace = True)"
   ]
  },
  {
   "cell_type": "code",
   "execution_count": 32,
   "metadata": {},
   "outputs": [],
   "source": [
    "# create income groups\n",
    "profile_clean.loc[profile_clean['income'] < 40000, 'income_group'] = 'low'\n",
    "profile_clean.loc[(profile_clean['income'] >= 40000) & (profile_clean['income'] <= 90000), ['income_group']] = 'medium' \n",
    "profile_clean.loc[profile_clean['income'] > 90000, 'income_group'] = 'high'"
   ]
  },
  {
   "cell_type": "code",
   "execution_count": 33,
   "metadata": {},
   "outputs": [],
   "source": [
    "# create variables for 'income_group_dummy'\n",
    "income_group_dummy = pd.get_dummies(profile_clean['income_group'])\n",
    "# concatenate DataFrame 'profile' and income_group_dummy\n",
    "profile_clean = pd.concat([profile_clean, income_group_dummy], axis = 1)"
   ]
  },
  {
   "cell_type": "code",
   "execution_count": 34,
   "metadata": {},
   "outputs": [
    {
     "data": {
      "text/html": [
       "<div>\n",
       "<style scoped>\n",
       "    .dataframe tbody tr th:only-of-type {\n",
       "        vertical-align: middle;\n",
       "    }\n",
       "\n",
       "    .dataframe tbody tr th {\n",
       "        vertical-align: top;\n",
       "    }\n",
       "\n",
       "    .dataframe thead th {\n",
       "        text-align: right;\n",
       "    }\n",
       "</style>\n",
       "<table border=\"1\" class=\"dataframe\">\n",
       "  <thead>\n",
       "    <tr style=\"text-align: right;\">\n",
       "      <th></th>\n",
       "      <th>age</th>\n",
       "      <th>became_member_on</th>\n",
       "      <th>gender</th>\n",
       "      <th>user_id</th>\n",
       "      <th>income</th>\n",
       "      <th>became_member_year</th>\n",
       "      <th>member_days</th>\n",
       "      <th>F</th>\n",
       "      <th>M</th>\n",
       "      <th>O</th>\n",
       "      <th>...</th>\n",
       "      <th>50s</th>\n",
       "      <th>60s</th>\n",
       "      <th>70s</th>\n",
       "      <th>80s</th>\n",
       "      <th>90s</th>\n",
       "      <th>100s</th>\n",
       "      <th>income_group</th>\n",
       "      <th>high</th>\n",
       "      <th>low</th>\n",
       "      <th>medium</th>\n",
       "    </tr>\n",
       "  </thead>\n",
       "  <tbody>\n",
       "    <tr>\n",
       "      <th>1</th>\n",
       "      <td>55</td>\n",
       "      <td>2017-07-15</td>\n",
       "      <td>F</td>\n",
       "      <td>0610b486422d4921ae7d2bf64640c50b</td>\n",
       "      <td>112000.0</td>\n",
       "      <td>2017</td>\n",
       "      <td>1332</td>\n",
       "      <td>1</td>\n",
       "      <td>0</td>\n",
       "      <td>0</td>\n",
       "      <td>...</td>\n",
       "      <td>1</td>\n",
       "      <td>0</td>\n",
       "      <td>0</td>\n",
       "      <td>0</td>\n",
       "      <td>0</td>\n",
       "      <td>0</td>\n",
       "      <td>high</td>\n",
       "      <td>1</td>\n",
       "      <td>0</td>\n",
       "      <td>0</td>\n",
       "    </tr>\n",
       "    <tr>\n",
       "      <th>3</th>\n",
       "      <td>75</td>\n",
       "      <td>2017-05-09</td>\n",
       "      <td>F</td>\n",
       "      <td>78afa995795e4d85b5d9ceeca43f5fef</td>\n",
       "      <td>100000.0</td>\n",
       "      <td>2017</td>\n",
       "      <td>1399</td>\n",
       "      <td>1</td>\n",
       "      <td>0</td>\n",
       "      <td>0</td>\n",
       "      <td>...</td>\n",
       "      <td>0</td>\n",
       "      <td>0</td>\n",
       "      <td>1</td>\n",
       "      <td>0</td>\n",
       "      <td>0</td>\n",
       "      <td>0</td>\n",
       "      <td>high</td>\n",
       "      <td>1</td>\n",
       "      <td>0</td>\n",
       "      <td>0</td>\n",
       "    </tr>\n",
       "    <tr>\n",
       "      <th>5</th>\n",
       "      <td>68</td>\n",
       "      <td>2018-04-26</td>\n",
       "      <td>M</td>\n",
       "      <td>e2127556f4f64592b11af22de27a7932</td>\n",
       "      <td>70000.0</td>\n",
       "      <td>2018</td>\n",
       "      <td>1047</td>\n",
       "      <td>0</td>\n",
       "      <td>1</td>\n",
       "      <td>0</td>\n",
       "      <td>...</td>\n",
       "      <td>0</td>\n",
       "      <td>1</td>\n",
       "      <td>0</td>\n",
       "      <td>0</td>\n",
       "      <td>0</td>\n",
       "      <td>0</td>\n",
       "      <td>medium</td>\n",
       "      <td>0</td>\n",
       "      <td>0</td>\n",
       "      <td>1</td>\n",
       "    </tr>\n",
       "    <tr>\n",
       "      <th>8</th>\n",
       "      <td>65</td>\n",
       "      <td>2018-02-09</td>\n",
       "      <td>M</td>\n",
       "      <td>389bc3fa690240e798340f5a15918d5c</td>\n",
       "      <td>53000.0</td>\n",
       "      <td>2018</td>\n",
       "      <td>1123</td>\n",
       "      <td>0</td>\n",
       "      <td>1</td>\n",
       "      <td>0</td>\n",
       "      <td>...</td>\n",
       "      <td>0</td>\n",
       "      <td>1</td>\n",
       "      <td>0</td>\n",
       "      <td>0</td>\n",
       "      <td>0</td>\n",
       "      <td>0</td>\n",
       "      <td>medium</td>\n",
       "      <td>0</td>\n",
       "      <td>0</td>\n",
       "      <td>1</td>\n",
       "    </tr>\n",
       "    <tr>\n",
       "      <th>12</th>\n",
       "      <td>58</td>\n",
       "      <td>2017-11-11</td>\n",
       "      <td>M</td>\n",
       "      <td>2eeac8d8feae4a8cad5a6af0499a211d</td>\n",
       "      <td>51000.0</td>\n",
       "      <td>2017</td>\n",
       "      <td>1213</td>\n",
       "      <td>0</td>\n",
       "      <td>1</td>\n",
       "      <td>0</td>\n",
       "      <td>...</td>\n",
       "      <td>1</td>\n",
       "      <td>0</td>\n",
       "      <td>0</td>\n",
       "      <td>0</td>\n",
       "      <td>0</td>\n",
       "      <td>0</td>\n",
       "      <td>medium</td>\n",
       "      <td>0</td>\n",
       "      <td>0</td>\n",
       "      <td>1</td>\n",
       "    </tr>\n",
       "  </tbody>\n",
       "</table>\n",
       "<p>5 rows × 24 columns</p>\n",
       "</div>"
      ],
      "text/plain": [
       "    age became_member_on gender                           user_id    income  \\\n",
       "1    55       2017-07-15      F  0610b486422d4921ae7d2bf64640c50b  112000.0   \n",
       "3    75       2017-05-09      F  78afa995795e4d85b5d9ceeca43f5fef  100000.0   \n",
       "5    68       2018-04-26      M  e2127556f4f64592b11af22de27a7932   70000.0   \n",
       "8    65       2018-02-09      M  389bc3fa690240e798340f5a15918d5c   53000.0   \n",
       "12   58       2017-11-11      M  2eeac8d8feae4a8cad5a6af0499a211d   51000.0   \n",
       "\n",
       "    became_member_year  member_days  F  M  O   ...    50s  60s  70s  80s  90s  \\\n",
       "1                 2017         1332  1  0  0   ...      1    0    0    0    0   \n",
       "3                 2017         1399  1  0  0   ...      0    0    1    0    0   \n",
       "5                 2018         1047  0  1  0   ...      0    1    0    0    0   \n",
       "8                 2018         1123  0  1  0   ...      0    1    0    0    0   \n",
       "12                2017         1213  0  1  0   ...      1    0    0    0    0   \n",
       "\n",
       "    100s  income_group  high  low  medium  \n",
       "1      0          high     1    0       0  \n",
       "3      0          high     1    0       0  \n",
       "5      0        medium     0    0       1  \n",
       "8      0        medium     0    0       1  \n",
       "12     0        medium     0    0       1  \n",
       "\n",
       "[5 rows x 24 columns]"
      ]
     },
     "execution_count": 34,
     "metadata": {},
     "output_type": "execute_result"
    }
   ],
   "source": [
    "profile_clean.head()"
   ]
  },
  {
   "cell_type": "markdown",
   "metadata": {},
   "source": [
    "### 2.3 Clean 'transcript' DataFrame and create 'transactions' DataFrame"
   ]
  },
  {
   "cell_type": "code",
   "execution_count": 35,
   "metadata": {},
   "outputs": [],
   "source": [
    "# create a copy of the original DataFrame\n",
    "transcript_clean = transcript.copy()"
   ]
  },
  {
   "cell_type": "code",
   "execution_count": 36,
   "metadata": {},
   "outputs": [],
   "source": [
    "# create Pandas Series 'offer_id' based on Pandas Series 'value'\n",
    "transcript_clean['offer_id'] = transcript_clean['value'].apply(lambda x: x['offer id'] if 'offer id' in x else (x['offer_id'] if 'offer_id' in x else np.nan))\n",
    "# create Pandas Series 'offer_id' based on Pandas Series 'value'\n",
    "transcript_clean['amount'] = transcript_clean['value'].apply(lambda x: x['amount'] if ('amount' in x) else np.nan)"
   ]
  },
  {
   "cell_type": "code",
   "execution_count": 37,
   "metadata": {},
   "outputs": [],
   "source": [
    "# rename 'person' to 'user_id'\n",
    "transcript_clean.rename(columns = {'person':'user_id'}, inplace = True)"
   ]
  },
  {
   "cell_type": "code",
   "execution_count": 38,
   "metadata": {},
   "outputs": [],
   "source": [
    "# create DataFrame 'transactions' from 'transcript' DataFrame by using the 'user_id' and 'amount'\n",
    "transactions = transcript_clean.loc[transcript_clean['event'] == 'transaction', ['user_id', 'time' ,'amount']]\n",
    "transactions.reset_index(drop = True, inplace = True)"
   ]
  },
  {
   "cell_type": "code",
   "execution_count": 39,
   "metadata": {},
   "outputs": [],
   "source": [
    "# drop rows where 'event' equals 'transcation'\n",
    "transcript_clean.drop(transcript_clean[transcript_clean['event'] == 'transaction'].index, inplace = True) "
   ]
  },
  {
   "cell_type": "code",
   "execution_count": 40,
   "metadata": {},
   "outputs": [],
   "source": [
    "# drop column 'value'\n",
    "transcript_clean.drop(columns = ['value', 'amount'], axis = 1, inplace = True)"
   ]
  },
  {
   "cell_type": "code",
   "execution_count": 41,
   "metadata": {},
   "outputs": [],
   "source": [
    "# create dummy variables for 'event'\n",
    "event_dummy = pd.get_dummies(transcript_clean['event'])\n",
    "# concatenate DataFrame 'transcript' and event_dummy\n",
    "transcript_clean = pd.concat([transcript_clean, event_dummy], axis = 1)"
   ]
  },
  {
   "cell_type": "code",
   "execution_count": 42,
   "metadata": {},
   "outputs": [],
   "source": [
    "# rename multiple columns in the transcript DataFrame\n",
    "transcript_clean.rename(columns = {'offer completed':'offer_completed', 'offer received':'offer_received', 'offer viewed':'offer_viewed'}, inplace = True)"
   ]
  },
  {
   "cell_type": "code",
   "execution_count": 43,
   "metadata": {},
   "outputs": [],
   "source": [
    "# drop column 'event'\n",
    "transcript_clean.drop('event', axis = 1, inplace = True)"
   ]
  },
  {
   "cell_type": "code",
   "execution_count": 44,
   "metadata": {},
   "outputs": [],
   "source": [
    "# remove rows where user_id matches user_id in age_110 list\n",
    "transcript_clean = transcript_clean[~transcript_clean['user_id'].isin(age_110)] "
   ]
  },
  {
   "cell_type": "code",
   "execution_count": 45,
   "metadata": {},
   "outputs": [],
   "source": [
    "# remove rows where user_id matches user_id in age_110 list\n",
    "transcript_clean = transcript_clean[~transcript_clean['user_id'].isin(age_110)] "
   ]
  },
  {
   "cell_type": "code",
   "execution_count": 46,
   "metadata": {},
   "outputs": [],
   "source": [
    "# inner join between 'profile_clean' and 'transcript_clean' on 'user_id'\n",
    "master_df = profile_clean.merge(transcript_clean, how = 'inner', on = 'user_id')"
   ]
  },
  {
   "cell_type": "code",
   "execution_count": 47,
   "metadata": {},
   "outputs": [],
   "source": [
    "# inner join between 'master_df' and 'portfolio_clean' on 'offer_id'\n",
    "master_df = master_df.merge(portfolio_clean, how = 'inner', on = 'offer_id')"
   ]
  },
  {
   "cell_type": "code",
   "execution_count": 48,
   "metadata": {},
   "outputs": [
    {
     "data": {
      "text/html": [
       "<div>\n",
       "<style scoped>\n",
       "    .dataframe tbody tr th:only-of-type {\n",
       "        vertical-align: middle;\n",
       "    }\n",
       "\n",
       "    .dataframe tbody tr th {\n",
       "        vertical-align: top;\n",
       "    }\n",
       "\n",
       "    .dataframe thead th {\n",
       "        text-align: right;\n",
       "    }\n",
       "</style>\n",
       "<table border=\"1\" class=\"dataframe\">\n",
       "  <thead>\n",
       "    <tr style=\"text-align: right;\">\n",
       "      <th></th>\n",
       "      <th>age</th>\n",
       "      <th>became_member_on</th>\n",
       "      <th>gender</th>\n",
       "      <th>user_id</th>\n",
       "      <th>income</th>\n",
       "      <th>became_member_year</th>\n",
       "      <th>member_days</th>\n",
       "      <th>F</th>\n",
       "      <th>M</th>\n",
       "      <th>O</th>\n",
       "      <th>...</th>\n",
       "      <th>offer_type</th>\n",
       "      <th>reward</th>\n",
       "      <th>bogo</th>\n",
       "      <th>discount</th>\n",
       "      <th>informational</th>\n",
       "      <th>email</th>\n",
       "      <th>mobile</th>\n",
       "      <th>social</th>\n",
       "      <th>web</th>\n",
       "      <th>offer_name</th>\n",
       "    </tr>\n",
       "  </thead>\n",
       "  <tbody>\n",
       "    <tr>\n",
       "      <th>0</th>\n",
       "      <td>55</td>\n",
       "      <td>2017-07-15</td>\n",
       "      <td>F</td>\n",
       "      <td>0610b486422d4921ae7d2bf64640c50b</td>\n",
       "      <td>112000.0</td>\n",
       "      <td>2017</td>\n",
       "      <td>1332</td>\n",
       "      <td>1</td>\n",
       "      <td>0</td>\n",
       "      <td>0</td>\n",
       "      <td>...</td>\n",
       "      <td>bogo</td>\n",
       "      <td>5</td>\n",
       "      <td>1</td>\n",
       "      <td>0</td>\n",
       "      <td>0</td>\n",
       "      <td>1</td>\n",
       "      <td>1</td>\n",
       "      <td>0</td>\n",
       "      <td>1</td>\n",
       "      <td>bogo_5_168</td>\n",
       "    </tr>\n",
       "    <tr>\n",
       "      <th>1</th>\n",
       "      <td>55</td>\n",
       "      <td>2017-07-15</td>\n",
       "      <td>F</td>\n",
       "      <td>0610b486422d4921ae7d2bf64640c50b</td>\n",
       "      <td>112000.0</td>\n",
       "      <td>2017</td>\n",
       "      <td>1332</td>\n",
       "      <td>1</td>\n",
       "      <td>0</td>\n",
       "      <td>0</td>\n",
       "      <td>...</td>\n",
       "      <td>bogo</td>\n",
       "      <td>5</td>\n",
       "      <td>1</td>\n",
       "      <td>0</td>\n",
       "      <td>0</td>\n",
       "      <td>1</td>\n",
       "      <td>1</td>\n",
       "      <td>0</td>\n",
       "      <td>1</td>\n",
       "      <td>bogo_5_168</td>\n",
       "    </tr>\n",
       "    <tr>\n",
       "      <th>2</th>\n",
       "      <td>75</td>\n",
       "      <td>2017-05-09</td>\n",
       "      <td>F</td>\n",
       "      <td>78afa995795e4d85b5d9ceeca43f5fef</td>\n",
       "      <td>100000.0</td>\n",
       "      <td>2017</td>\n",
       "      <td>1399</td>\n",
       "      <td>1</td>\n",
       "      <td>0</td>\n",
       "      <td>0</td>\n",
       "      <td>...</td>\n",
       "      <td>bogo</td>\n",
       "      <td>5</td>\n",
       "      <td>1</td>\n",
       "      <td>0</td>\n",
       "      <td>0</td>\n",
       "      <td>1</td>\n",
       "      <td>1</td>\n",
       "      <td>0</td>\n",
       "      <td>1</td>\n",
       "      <td>bogo_5_168</td>\n",
       "    </tr>\n",
       "    <tr>\n",
       "      <th>3</th>\n",
       "      <td>75</td>\n",
       "      <td>2017-05-09</td>\n",
       "      <td>F</td>\n",
       "      <td>78afa995795e4d85b5d9ceeca43f5fef</td>\n",
       "      <td>100000.0</td>\n",
       "      <td>2017</td>\n",
       "      <td>1399</td>\n",
       "      <td>1</td>\n",
       "      <td>0</td>\n",
       "      <td>0</td>\n",
       "      <td>...</td>\n",
       "      <td>bogo</td>\n",
       "      <td>5</td>\n",
       "      <td>1</td>\n",
       "      <td>0</td>\n",
       "      <td>0</td>\n",
       "      <td>1</td>\n",
       "      <td>1</td>\n",
       "      <td>0</td>\n",
       "      <td>1</td>\n",
       "      <td>bogo_5_168</td>\n",
       "    </tr>\n",
       "    <tr>\n",
       "      <th>4</th>\n",
       "      <td>75</td>\n",
       "      <td>2017-05-09</td>\n",
       "      <td>F</td>\n",
       "      <td>78afa995795e4d85b5d9ceeca43f5fef</td>\n",
       "      <td>100000.0</td>\n",
       "      <td>2017</td>\n",
       "      <td>1399</td>\n",
       "      <td>1</td>\n",
       "      <td>0</td>\n",
       "      <td>0</td>\n",
       "      <td>...</td>\n",
       "      <td>bogo</td>\n",
       "      <td>5</td>\n",
       "      <td>1</td>\n",
       "      <td>0</td>\n",
       "      <td>0</td>\n",
       "      <td>1</td>\n",
       "      <td>1</td>\n",
       "      <td>0</td>\n",
       "      <td>1</td>\n",
       "      <td>bogo_5_168</td>\n",
       "    </tr>\n",
       "  </tbody>\n",
       "</table>\n",
       "<p>5 rows × 42 columns</p>\n",
       "</div>"
      ],
      "text/plain": [
       "   age became_member_on gender                           user_id    income  \\\n",
       "0   55       2017-07-15      F  0610b486422d4921ae7d2bf64640c50b  112000.0   \n",
       "1   55       2017-07-15      F  0610b486422d4921ae7d2bf64640c50b  112000.0   \n",
       "2   75       2017-05-09      F  78afa995795e4d85b5d9ceeca43f5fef  100000.0   \n",
       "3   75       2017-05-09      F  78afa995795e4d85b5d9ceeca43f5fef  100000.0   \n",
       "4   75       2017-05-09      F  78afa995795e4d85b5d9ceeca43f5fef  100000.0   \n",
       "\n",
       "   became_member_year  member_days  F  M  O     ...      offer_type  reward  \\\n",
       "0                2017         1332  1  0  0     ...            bogo       5   \n",
       "1                2017         1332  1  0  0     ...            bogo       5   \n",
       "2                2017         1399  1  0  0     ...            bogo       5   \n",
       "3                2017         1399  1  0  0     ...            bogo       5   \n",
       "4                2017         1399  1  0  0     ...            bogo       5   \n",
       "\n",
       "   bogo  discount  informational  email  mobile  social  web  offer_name  \n",
       "0     1         0              0      1       1       0    1  bogo_5_168  \n",
       "1     1         0              0      1       1       0    1  bogo_5_168  \n",
       "2     1         0              0      1       1       0    1  bogo_5_168  \n",
       "3     1         0              0      1       1       0    1  bogo_5_168  \n",
       "4     1         0              0      1       1       0    1  bogo_5_168  \n",
       "\n",
       "[5 rows x 42 columns]"
      ]
     },
     "execution_count": 48,
     "metadata": {},
     "output_type": "execute_result"
    }
   ],
   "source": [
    "master_df.head()"
   ]
  },
  {
   "cell_type": "code",
   "execution_count": 49,
   "metadata": {},
   "outputs": [
    {
     "name": "stdout",
     "output_type": "stream",
     "text": [
      "<class 'pandas.core.frame.DataFrame'>\n",
      "Int64Index: 148805 entries, 0 to 148804\n",
      "Data columns (total 42 columns):\n",
      "age                   148805 non-null int64\n",
      "became_member_on      148805 non-null datetime64[ns]\n",
      "gender                148805 non-null object\n",
      "user_id               148805 non-null object\n",
      "income                148805 non-null float64\n",
      "became_member_year    148805 non-null int64\n",
      "member_days           148805 non-null int64\n",
      "F                     148805 non-null uint8\n",
      "M                     148805 non-null uint8\n",
      "O                     148805 non-null uint8\n",
      "10s                   148805 non-null int64\n",
      "20s                   148805 non-null int64\n",
      "30s                   148805 non-null int64\n",
      "40s                   148805 non-null int64\n",
      "50s                   148805 non-null int64\n",
      "60s                   148805 non-null int64\n",
      "70s                   148805 non-null int64\n",
      "80s                   148805 non-null int64\n",
      "90s                   148805 non-null int64\n",
      "100s                  148805 non-null int64\n",
      "income_group          148805 non-null object\n",
      "high                  148805 non-null uint8\n",
      "low                   148805 non-null uint8\n",
      "medium                148805 non-null uint8\n",
      "time                  148805 non-null int64\n",
      "offer_id              148805 non-null object\n",
      "offer_completed       148805 non-null uint8\n",
      "offer_received        148805 non-null uint8\n",
      "offer_viewed          148805 non-null uint8\n",
      "channels              148805 non-null object\n",
      "difficulty            148805 non-null int64\n",
      "duration              148805 non-null int64\n",
      "offer_type            148805 non-null object\n",
      "reward                148805 non-null int64\n",
      "bogo                  148805 non-null uint8\n",
      "discount              148805 non-null uint8\n",
      "informational         148805 non-null uint8\n",
      "email                 148805 non-null int64\n",
      "mobile                148805 non-null int64\n",
      "social                148805 non-null int64\n",
      "web                   148805 non-null int64\n",
      "offer_name            148805 non-null object\n",
      "dtypes: datetime64[ns](1), float64(1), int64(21), object(7), uint8(12)\n",
      "memory usage: 36.9+ MB\n"
     ]
    }
   ],
   "source": [
    "# no NULL values\n",
    "master_df.info()"
   ]
  },
  {
   "cell_type": "markdown",
   "metadata": {},
   "source": [
    "# 3. Exploratory Data Analysis\n",
    "\n",
    "### Questions:\n",
    "\n",
    "- How many new members does Starbucks get each year and what's the projection for 2018?\n",
    "- What's the age distribution?\n",
    "- How is the is the income distributed across genders?\n",
    "- What's the viewing rate of each offer by gender?\n",
    "- What's the viewing rate of each offer and income group?\n",
    "- What's the completion rate of each offer?\n",
    "- What's the completion rate of each offer by gender?\n",
    "- How long does it take in average to complete an offer?\n",
    "- How long dies it take in average to complete an offer based on the maximum duration?\n",
    "- How much money that was spent is associated with a completed offer?"
   ]
  },
  {
   "cell_type": "code",
   "execution_count": 80,
   "metadata": {},
   "outputs": [
    {
     "data": {
      "image/png": "[encoded data removed]",
      "text/plain": [
       "<matplotlib.figure.Figure at 0x7fbf0696b358>"
      ]
     },
     "metadata": {
      "needs_background": "light"
     },
     "output_type": "display_data"
    }
   ],
   "source": [
    "# group by count of new memberships by month to depict seasonal trend\n",
    "avg_new_memb_month = profile_clean['became_member_on'].groupby([profile_clean.became_member_on.dt.month]).count()/profile_clean['became_member_on'].count()\n",
    "# the last 6 month account for roughly 53.35% of new memberships in 2018\n",
    "perc_last6month = avg_new_memb_month.iloc[6:].sum()\n",
    "# projected count of new memberships in 2018\n",
    "proj_new_memb_2018 = profile_clean[(profile_clean.became_member_on.dt.month <= 6) & (profile_clean.became_member_on.dt.year == 2018)]['became_member_year'].count()/(1 -  perc_last6month)\n",
    "# projected count of memberships for 2018 - actual count of membership up to June 30th 2018\n",
    "proj_2018 = proj_new_memb_2018 - profile_clean.groupby('became_member_year')['became_member_year'].count().values[-1]\n",
    "\n",
    "N = len(profile_clean.groupby('became_member_year')['became_member_year'].count().index.values)\n",
    "ind = np.arange(N)\n",
    "\n",
    "# set bar width\n",
    "barWidth = 0.35\n",
    "\n",
    "# set figure size\n",
    "plt.figure(figsize=(20,10))\n",
    " \n",
    "# set height of bar\n",
    "bars1 = profile_clean.groupby('became_member_year')['became_member_year'].count().values\n",
    "bars2 = np.array([0, 0, 0, 0, 0, proj_2018])\n",
    " \n",
    "# Add xticks on the middle of the group bars\n",
    "plt.title('Count of new Starbucks memberships by year', fontsize = 15)\n",
    "plt.ylabel('Count of memberships', fontweight =\"bold\")\n",
    "plt.xlabel('Calendar year', fontweight =\"bold\")\n",
    "plt.bar(profile_clean.groupby('became_member_year')['became_member_year'].count().index.values, bars1, label = 'Actual new memberships')\n",
    "plt.bar(profile_clean.groupby('became_member_year')['became_member_year'].count().index.values, bars2, bottom = bars1, label = 'Projected new memberships')\n",
    "plt.legend()\n",
    "# Create legend & Show graphic\n",
    "plt.show()"
   ]
  },
  {
   "cell_type": "markdown",
   "metadata": {},
   "source": [
    "There is an constant increase of new memberships each year since 2013. Since there's only membership data included up to July 26th 2018, the count of new memberships in 2018 is misleading, as it takes in account the first 206 days or 56,5% of the year. Based on the calculation above there will be roughly 6,900 new members in 2018, which is an increase of 23,24% compared to 5,599 new memberships in 2017."
   ]
  },
  {
   "cell_type": "code",
   "execution_count": 51,
   "metadata": {},
   "outputs": [
    {
     "data": {
      "image/png": "[encoded data removed]",
      "text/plain": [
       "<matplotlib.figure.Figure at 0x7fbf06b66e10>"
      ]
     },
     "metadata": {
      "needs_background": "light"
     },
     "output_type": "display_data"
    }
   ],
   "source": [
    "column_name = []\n",
    "column_val = []\n",
    "for age_column in profile_clean[[\"10s\", \"20s\", \"30s\", \"40s\", \"50s\", \"60s\", \"70s\", \"80s\", \"90s\"]]:\n",
    "    column_name.append(profile_clean[age_column].name)\n",
    "    column_val.append(profile_clean[age_column].sum())\n",
    "    \n",
    "plt.figure(figsize=(20,10))\n",
    "plt.bar(column_name, column_val)\n",
    "plt.title('Age distribution of Starbucks members', fontsize = 15)\n",
    "plt.xlabel('Age groups', fontweight =\"bold\")\n",
    "plt.ylabel('Count of memberships', fontweight =\"bold\")\n",
    "plt.show();"
   ]
  },
  {
   "cell_type": "markdown",
   "metadata": {},
   "source": [
    "The age of Starbucks members looks normally distributed which is in contrast to the age distribution of the US population: https://www.census.gov/prod/cen2010/briefs/c2010br-03.pdf. Most of the Starbucks members are in their 50's and 60's"
   ]
  },
  {
   "cell_type": "code",
   "execution_count": 52,
   "metadata": {},
   "outputs": [
    {
     "data": {
      "image/png": "[encoded data removed]",
      "text/plain": [
       "<matplotlib.figure.Figure at 0x7fbf06b66e48>"
      ]
     },
     "metadata": {
      "needs_background": "light"
     },
     "output_type": "display_data"
    }
   ],
   "source": [
    "n_men = profile_clean[profile_clean['gender']== 'M']['gender'].count()\n",
    "n_women = profile_clean[profile_clean['gender']== 'F']['gender'].count()\n",
    "n_na = profile_clean[profile_clean['gender']== 'O']['gender'].count()\n",
    "string = \" n: \\n Male: {:,}  \\n Female: {:,}  \\n N/A: {:,}\".format(n_men, n_women, n_na)\n",
    "\n",
    "# convert 'income_group' to a categorical \n",
    "level_order = ['low', 'medium', 'high']\n",
    "ordered_cat = pd.api.types.CategoricalDtype(ordered = True, categories = level_order)\n",
    "profile_clean['income_group']= profile_clean['income_group'].astype(ordered_cat)\n",
    "\n",
    "# set bar width\n",
    "barWidth = 0.25\n",
    "\n",
    "# set figure size\n",
    "plt.figure(figsize=(20,10))\n",
    "\n",
    "r1 = np.arange(len(profile_clean.groupby('income_group')['income_group'].count().index.values))\n",
    "r2 = [x + barWidth for x in r1]\n",
    "r3 = [x + barWidth for x in r2]\n",
    "    \n",
    "# set height of bar\n",
    "plt.bar(r1, profile_clean[profile_clean['gender']== 'M'].groupby('income_group')['gender'].count().values, width=barWidth, edgecolor='white', label='Male')\n",
    "plt.bar(r2, profile_clean[profile_clean['gender']== 'F'].groupby('income_group')['gender'].count().values, width=barWidth, edgecolor='white', label='Femal')\n",
    "plt.bar(r3, profile_clean[profile_clean['gender']== 'O'].groupby('income_group')['gender'].count().values, width=barWidth, edgecolor='white', label='N/A')\n",
    " \n",
    "# Add xticks on the middle of the group bars\n",
    "plt.title('Distribution of income by gender', fontsize = 15)\n",
    "plt.ylabel('Count of memberships', fontweight =\"bold\")\n",
    "plt.xlabel('Income group in US Dollar', fontweight =\"bold\")\n",
    "plt.xticks([r + barWidth for r in range(len(profile_clean.groupby('income_group')['income_group'].count().index.values))], ['Low (Less than 40,000 USD)', 'Medium (Between 40,000 USD and 90,000 USD)', 'High (more than 90,000 USD)'])\n",
    "plt.annotate(string, xy=(0.02, 0.90), xycoords='axes fraction')\n",
    "plt.legend()\n",
    "# Create legend & Show graphic\n",
    "plt.show()"
   ]
  },
  {
   "cell_type": "markdown",
   "metadata": {},
   "source": [
    "There are roughly 38% more male than female members. There are more female members in the high income groupe despite the total amount of females is lower. "
   ]
  },
  {
   "cell_type": "code",
   "execution_count": 53,
   "metadata": {},
   "outputs": [
    {
     "data": {
      "image/png": "[encoded data removed]",
      "text/plain": [
       "<matplotlib.figure.Figure at 0x7fbf06cf3908>"
      ]
     },
     "metadata": {
      "needs_background": "light"
     },
     "output_type": "display_data"
    }
   ],
   "source": [
    "m_viewed_received = (master_df[(master_df['offer_viewed'] == 1) & (master_df['gender'] == 'M')].groupby('offer_type')['offer_type'].count().values)/(master_df[(master_df['offer_received'] == 1) & (master_df['gender'] == 'M')].groupby('offer_type')['offer_type'].count().values)\n",
    "f_viewed_received = (master_df[(master_df['offer_viewed'] == 1) & (master_df['gender'] == 'F')].groupby('offer_type')['offer_type'].count().values)/(master_df[(master_df['offer_received'] == 1) & (master_df['gender'] == 'F')].groupby('offer_type')['offer_type'].count().values)\n",
    "o_viewed_received = (master_df[(master_df['offer_viewed'] == 1) & (master_df['gender'] == 'O')].groupby('offer_type')['offer_type'].count().values)/(master_df[(master_df['offer_received'] == 1) & (master_df['gender'] == 'O')].groupby('offer_type')['offer_type'].count().values)\n",
    "# set bar width\n",
    "barWidth = 0.25\n",
    "\n",
    "# set figure size\n",
    "plt.figure(figsize=(20,10))\n",
    "\n",
    "r1 = np.arange(len(master_df.groupby('offer_type')['offer_type'].count().index.values))\n",
    "r2 = [x + barWidth for x in r1]\n",
    "r3 = [x + barWidth for x in r2]\n",
    "    \n",
    "# set height of bar\n",
    "plt.bar(r1, m_viewed_received, width=barWidth, edgecolor='white', label='Male')\n",
    "plt.bar(r2, f_viewed_received, width=barWidth, edgecolor='white', label='Femal')\n",
    "plt.bar(r3, o_viewed_received, width=barWidth, edgecolor='white', label='N/A')\n",
    " \n",
    "# Add xticks on the middle of the group bars\n",
    "plt.title('Viewing rate by offer type and gender', fontsize = 15)\n",
    "plt.ylabel('Viewing rate', fontweight =\"bold\")\n",
    "plt.xlabel('Offer type', fontweight =\"bold\")\n",
    "plt.gca().set_yticklabels(['{:.0f}%'.format(x*100) for x in plt.gca().get_yticks()])\n",
    "plt.xticks([r + barWidth for r in range(len(master_df.groupby('offer_type')['offer_type'].count().index.values))], master_df[master_df['offer_received'] == 1].groupby('offer_type')['user_id'].count().index)\n",
    "plt.legend()\n",
    "# Create legend & Show graphic\n",
    "plt.show()"
   ]
  },
  {
   "cell_type": "markdown",
   "metadata": {},
   "source": [
    "The Buy one get one (BOGO) offer type has the highest viewing rate out of the three offer types. Not available genders have the highest viewing rate although the sample size of this subset is significantly compared to the male and femal subset. Female members have a slightly higher viewing rate than male members.  "
   ]
  },
  {
   "cell_type": "code",
   "execution_count": 54,
   "metadata": {},
   "outputs": [
    {
     "data": {
      "image/png": "[encoded data removed]",
      "text/plain": [
       "<matplotlib.figure.Figure at 0x7fbf06abd4e0>"
      ]
     },
     "metadata": {
      "needs_background": "light"
     },
     "output_type": "display_data"
    }
   ],
   "source": [
    "l_viewed_received = (master_df[(master_df['offer_viewed'] == 1) & (master_df['income_group'] == 'low')].groupby('offer_type')['offer_type'].count().values)/(master_df[(master_df['offer_received'] == 1) & (master_df['income_group'] == 'low')].groupby('offer_type')['offer_type'].count().values)\n",
    "m_viewed_received = (master_df[(master_df['offer_viewed'] == 1) & (master_df['income_group'] == 'medium')].groupby('offer_type')['offer_type'].count().values)/(master_df[(master_df['offer_received'] == 1) & (master_df['income_group'] == 'medium')].groupby('offer_type')['offer_type'].count().values)\n",
    "h_viewed_received = (master_df[(master_df['offer_viewed'] == 1) & (master_df['income_group'] == 'high')].groupby('offer_type')['offer_type'].count().values)/(master_df[(master_df['offer_received'] == 1) & (master_df['income_group'] == 'high')].groupby('offer_type')['offer_type'].count().values)\n",
    "# set bar width\n",
    "barWidth = 0.25\n",
    "\n",
    "# set figure size\n",
    "plt.figure(figsize=(20,10))\n",
    "\n",
    "r1 = np.arange(len(master_df.groupby('offer_type')['offer_type'].count().index.values))\n",
    "r2 = [x + barWidth for x in r1]\n",
    "r3 = [x + barWidth for x in r2]\n",
    "    \n",
    "# set height of bar\n",
    "plt.bar(r1, l_viewed_received, width=barWidth, edgecolor='white', label='Low')\n",
    "plt.bar(r2, m_viewed_received, width=barWidth, edgecolor='white', label='Medium')\n",
    "plt.bar(r3, h_viewed_received, width=barWidth, edgecolor='white', label='High')\n",
    " \n",
    "# Add xticks on the middle of the group bars\n",
    "plt.title('Viewing rate by offer type and income group', fontsize = 15)\n",
    "plt.ylabel('Viewing rate', fontweight =\"bold\")\n",
    "plt.xlabel('Offer type', fontweight =\"bold\")\n",
    "plt.gca().set_yticklabels(['{:.0f}%'.format(x*100) for x in plt.gca().get_yticks()])\n",
    "plt.xticks([r + barWidth for r in range(len(master_df.groupby('offer_type')['offer_type'].count().index.values))], master_df[master_df['offer_received'] == 1].groupby('offer_type')['user_id'].count().index)\n",
    "plt.legend()\n",
    "# Create legend & Show graphic\n",
    "plt.show()"
   ]
  },
  {
   "cell_type": "markdown",
   "metadata": {},
   "source": [
    "Bogo offers have to highest viewing rate across all income groups. Discout and informational offers have a pretty similar viewing rate. Nembers in the low income group have the lowest viewing rate. "
   ]
  },
  {
   "cell_type": "code",
   "execution_count": 55,
   "metadata": {},
   "outputs": [],
   "source": [
    "# create DataFrame where offer_completed is true and sort by time ascending\n",
    "df_offer_completed = master_df[master_df['offer_completed'] == 1][['user_id','offer_id','time']].sort_values('time')\n",
    "# create DataFrame where offer_received is true and sort by time ascending\n",
    "df_offer_received = master_df[master_df['offer_received'] == 1][['user_id','offer_id','time']].sort_values('time')\n",
    "# merge 'df_offer_completed' and 'df_offer_received'\n",
    "df_offer_merged = pd.merge(df_offer_received, df_offer_completed,  how='left', on=['user_id','offer_id'])\n",
    "# rename columns\n",
    "df_offer_merged.rename(columns = {'time_x':'time_received', 'time_y':'time_completed'}, inplace = True)\n",
    "# get the difference between the time the offer was received and completed\n",
    "df_offer_merged['time_diff'] = df_offer_merged['time_completed'] - df_offer_merged['time_received']\n",
    "# get rows where time difference is negative to drop unrelated rows later\n",
    "invalid_offers_df = df_offer_merged[df_offer_merged['time_diff'] < 0].index\n",
    "# drop rows where time difference is negative\n",
    "df_offer_merged.drop(invalid_offers_df, inplace = True)\n",
    "# drop duplicates based on 'user_id', 'offer_id', 'time_received' and keep first record\n",
    "df_offer_merged.drop_duplicates(subset=['user_id', 'offer_id', 'time_received'], keep = 'first', inplace = True)\n",
    "# If 'time_completed' is na then success is false, else true\n",
    "df_offer_merged['success'] = np.where(df_offer_merged['time_completed'].isna(), 0, 1)\n",
    "# merge DataFrame 'portfolio_clean' to get additional information in regards to offers\n",
    "df_offer_merged = pd.merge(df_offer_merged, portfolio_clean, how = 'inner', on = 'offer_id')\n",
    "# drop unnecessary columns\n",
    "df_offer_merged.drop(['offer_id', 'channels'], axis = 1, inplace = True)\n",
    "# merge DataFrame 'profile_clean' to get additional information in regards to members\n",
    "df_offer_merged = pd.merge(df_offer_merged, profile_clean, how = 'left', on = 'user_id')\n",
    "# get amount of offers viewed\n",
    "offer_viewed = df_offer_merged.groupby('offer_name')['user_id'].count()\n",
    "# get amount of offers completed\n",
    "offer_success = df_offer_merged[df_offer_merged['success'] == 1].groupby('offer_name')['user_id'].count()\n",
    "# get ration of offer viewed and offer completed\n",
    "offer_success_rate = (offer_success / offer_viewed) * 100\n",
    "# drop offer type information\n",
    "offer_success_rate = offer_success_rate.sort_values(ascending = False).dropna()"
   ]
  },
  {
   "cell_type": "code",
   "execution_count": 56,
   "metadata": {},
   "outputs": [
    {
     "data": {
      "image/png": "[encoded data removed]",
      "text/plain": [
       "<matplotlib.figure.Figure at 0x7fbf06acdb70>"
      ]
     },
     "metadata": {
      "needs_background": "light"
     },
     "output_type": "display_data"
    }
   ],
   "source": [
    "plt.figure(figsize=(20,10))\n",
    "plt.bar(offer_success_rate.index.values, offer_success_rate.values)\n",
    "plt.title('Completion rate by offer', fontsize = 15)\n",
    "plt.xlabel('Offer', fontweight =\"bold\")\n",
    "plt.ylabel('Completion rate', fontweight =\"bold\")\n",
    "plt.gca().set_yticklabels(['{:.0f}%'.format(x) for x in plt.gca().get_yticks()])\n",
    "plt.show();"
   ]
  },
  {
   "cell_type": "markdown",
   "metadata": {},
   "source": [
    "The offer type discount with a difficulty of 0.5 and a duration of 240 hours has with 77.63% the highest completion rate, followed by another discount offer type with a difficulty of 0.35 and a duration of 168 hours with a 76.75% completion rate. In general it appears to be that the easier the offer, the higher the completion rate. Also the offer_type discount performs better then the bogo."
   ]
  },
  {
   "cell_type": "code",
   "execution_count": 57,
   "metadata": {},
   "outputs": [
    {
     "data": {
      "image/png": "[encoded data removed]",
      "text/plain": [
       "<matplotlib.figure.Figure at 0x7fbf06a2ce80>"
      ]
     },
     "metadata": {
      "needs_background": "light"
     },
     "output_type": "display_data"
    }
   ],
   "source": [
    "m_completed = (df_offer_merged[(df_offer_merged['gender'] == 'M') & (df_offer_merged['success'] == 1)].groupby('offer_name')['user_id'].count()/df_offer_merged[df_offer_merged['gender'] == 'M'].groupby('offer_name')['user_id'].count()).dropna() * 100\n",
    "f_completed = (df_offer_merged[(df_offer_merged['gender'] == 'F') & (df_offer_merged['success'] == 1)].groupby('offer_name')['user_id'].count()/df_offer_merged[df_offer_merged['gender'] == 'F'].groupby('offer_name')['user_id'].count()).dropna() * 100\n",
    "o_completed = (df_offer_merged[(df_offer_merged['gender'] == 'O') & (df_offer_merged['success'] == 1)].groupby('offer_name')['user_id'].count()/df_offer_merged[df_offer_merged['gender'] == 'O'].groupby('offer_name')['user_id'].count()).dropna() * 100\n",
    "# set bar width\n",
    "barWidth = 0.25\n",
    "\n",
    "# set figure size\n",
    "plt.figure(figsize=(20,10))\n",
    "\n",
    "r1 = np.arange(len(m_completed.index.values))\n",
    "r2 = [x + barWidth for x in r1]\n",
    "r3 = [x + barWidth for x in r2]\n",
    "    \n",
    "# set height of bar\n",
    "plt.bar(r1, m_completed, width=barWidth, edgecolor='white', label='Male')\n",
    "plt.bar(r2, f_completed, width=barWidth, edgecolor='white', label='Femal')\n",
    "plt.bar(r3, o_completed, width=barWidth, edgecolor='white', label='N/A')\n",
    " \n",
    "# Add xticks on the middle of the group bars\n",
    "plt.title('Completion rate by offer type and gender', fontsize = 15)\n",
    "plt.ylabel('Completion rate', fontweight =\"bold\")\n",
    "plt.xlabel('Offer Type', fontweight =\"bold\")\n",
    "plt.gca().set_yticklabels(['{:.0f}%'.format(x) for x in plt.gca().get_yticks()])\n",
    "plt.xticks([r + barWidth for r in range(len(m_completed.index.values))], m_completed.index.values)\n",
    "plt.legend()\n",
    "# Create legend & Show graphic\n",
    "plt.show()"
   ]
  },
  {
   "cell_type": "markdown",
   "metadata": {},
   "source": [
    "Female members have a 10% to 25% higher completion rate then male members consistently across all offer types."
   ]
  },
  {
   "cell_type": "code",
   "execution_count": 58,
   "metadata": {},
   "outputs": [],
   "source": [
    "# get the mean of duration by 'offer_name'\n",
    "time_diff = df_offer_merged.groupby('offer_name')['time_diff'].mean().dropna()\n",
    "# get the maximum amount of time a customer has to complete the offer by 'offer_name'\n",
    "offer_duration = df_offer_merged.groupby('offer_name')['duration'].min()\n",
    "# how fast was to offer completed in percent\n",
    "time_diff_perc = (time_diff / offer_duration) * 100\n",
    "# drop offer_name 'information' \n",
    "time_diff_perc = time_diff_perc.dropna()"
   ]
  },
  {
   "cell_type": "code",
   "execution_count": 59,
   "metadata": {},
   "outputs": [
    {
     "data": {
      "image/png": "[encoded data removed]",
      "text/plain": [
       "<matplotlib.figure.Figure at 0x7fbf06acd1d0>"
      ]
     },
     "metadata": {
      "needs_background": "light"
     },
     "output_type": "display_data"
    }
   ],
   "source": [
    "plt.figure(figsize=(20,10))\n",
    "plt.bar(time_diff.index.values, time_diff.values)\n",
    "plt.title('Average duration in hours to complete offer', fontsize = 15)\n",
    "plt.xlabel('Offer', fontweight =\"bold\")\n",
    "plt.ylabel('Duration in hours', fontweight =\"bold\")\n",
    "plt.show();"
   ]
  },
  {
   "cell_type": "code",
   "execution_count": 60,
   "metadata": {},
   "outputs": [
    {
     "data": {
      "image/png": "[encoded data removed]",
      "text/plain": [
       "<matplotlib.figure.Figure at 0x7fbf06a29b00>"
      ]
     },
     "metadata": {
      "needs_background": "light"
     },
     "output_type": "display_data"
    }
   ],
   "source": [
    "plt.figure(figsize=(20,10))\n",
    "plt.bar(time_diff_perc.index.values, time_diff_perc.values)\n",
    "plt.title('Percentage of duration to complete offer', fontsize = 15)\n",
    "plt.xlabel('Offer', fontweight =\"bold\")\n",
    "plt.ylabel('Duration in hours', fontweight =\"bold\")\n",
    "plt.gca().set_yticklabels(['{:.0f}%'.format(x) for x in plt.gca().get_yticks()])\n",
    "plt.show();"
   ]
  },
  {
   "cell_type": "markdown",
   "metadata": {},
   "source": [
    "The average time it takes members to complete their respective offer is under 50% of the maximum offer duration."
   ]
  },
  {
   "cell_type": "code",
   "execution_count": 61,
   "metadata": {},
   "outputs": [],
   "source": [
    "# only get successful offers\n",
    "df_success = df_offer_merged[df_offer_merged['success'] == 1]\n",
    "# join 'df_success' with 'transactions' to analyze how much money was spent to complete an offer\n",
    "df_success = df_success.merge(transactions, how = 'inner', on = 'user_id')\n",
    "# only keep rows where transaction time is between 'time_received' and 'time_completed'\n",
    "df_success = df_success[(df_success['time'] >= df_success['time_received']) & (df_success['time'] <= df_success['time_completed'])]\n",
    "# group by 'offer_name' to get money spent on each offer\n",
    "df_success = df_success.groupby('offer_name')['amount'].sum()\n",
    "# total amount of money spent\n",
    "total_spending = transactions['amount'].sum()\n",
    "# percentage of money spent to complete offer vs. total money spent\n",
    "not_successful_spending = total_spending - df_success.sum()"
   ]
  },
  {
   "cell_type": "code",
   "execution_count": 62,
   "metadata": {},
   "outputs": [
    {
     "data": {
      "image/png": "[encoded data removed]",
      "text/plain": [
       "<matplotlib.figure.Figure at 0x7fbf069bba20>"
      ]
     },
     "metadata": {
      "needs_background": "light"
     },
     "output_type": "display_data"
    }
   ],
   "source": [
    "string = \" Total Spending: ${:,.2f}  \\n Successful Spending: ${:,.2f}  \\n Unsuccessful Spending: ${:,.2f}\".format(total_spending, df_success.sum(), not_successful_spending)\n",
    "plt.figure(figsize=(20,10))\n",
    "plt.bar(df_success.index.values, df_success.values)\n",
    "plt.title('Spending related to offer', fontsize = 15)\n",
    "plt.xlabel('Offer', fontweight =\"bold\")\n",
    "plt.ylabel('Spending in US Dollar', fontweight =\"bold\")\n",
    "plt.gca().set_yticklabels(['${:,.2f}'.format(x) for x in plt.gca().get_yticks()])\n",
    "plt.annotate(string, xy=(0.02, 0.90), xycoords='axes fraction')\n",
    "plt.show();"
   ]
  },
  {
   "cell_type": "markdown",
   "metadata": {},
   "source": [
    "Roughly 44.5% of the spending can be tied to a completed offer."
   ]
  },
  {
   "cell_type": "markdown",
   "metadata": {},
   "source": [
    "# 4. ML Modeling"
   ]
  },
  {
   "cell_type": "code",
   "execution_count": 63,
   "metadata": {},
   "outputs": [
    {
     "name": "stdout",
     "output_type": "stream",
     "text": [
      "<class 'pandas.core.frame.DataFrame'>\n",
      "Int64Index: 65527 entries, 0 to 65526\n",
      "Data columns (total 40 columns):\n",
      "user_id               65527 non-null object\n",
      "time_received         65527 non-null int64\n",
      "time_completed        33643 non-null float64\n",
      "time_diff             33643 non-null float64\n",
      "success               65527 non-null int64\n",
      "difficulty            65527 non-null int64\n",
      "duration              65527 non-null int64\n",
      "offer_type            65527 non-null object\n",
      "reward                65527 non-null int64\n",
      "bogo                  65527 non-null uint8\n",
      "discount              65527 non-null uint8\n",
      "informational         65527 non-null uint8\n",
      "email                 65527 non-null int64\n",
      "mobile                65527 non-null int64\n",
      "social                65527 non-null int64\n",
      "web                   65527 non-null int64\n",
      "offer_name            65527 non-null object\n",
      "age                   65527 non-null int64\n",
      "became_member_on      65527 non-null datetime64[ns]\n",
      "gender                65527 non-null object\n",
      "income                65527 non-null float64\n",
      "became_member_year    65527 non-null int64\n",
      "member_days           65527 non-null int64\n",
      "F                     65527 non-null uint8\n",
      "M                     65527 non-null uint8\n",
      "O                     65527 non-null uint8\n",
      "10s                   65527 non-null int64\n",
      "20s                   65527 non-null int64\n",
      "30s                   65527 non-null int64\n",
      "40s                   65527 non-null int64\n",
      "50s                   65527 non-null int64\n",
      "60s                   65527 non-null int64\n",
      "70s                   65527 non-null int64\n",
      "80s                   65527 non-null int64\n",
      "90s                   65527 non-null int64\n",
      "100s                  65527 non-null int64\n",
      "income_group          65527 non-null category\n",
      "high                  65527 non-null uint8\n",
      "low                   65527 non-null uint8\n",
      "medium                65527 non-null uint8\n",
      "dtypes: category(1), datetime64[ns](1), float64(3), int64(22), object(4), uint8(9)\n",
      "memory usage: 16.1+ MB\n"
     ]
    }
   ],
   "source": [
    "df_offer_merged.info()"
   ]
  },
  {
   "cell_type": "code",
   "execution_count": 64,
   "metadata": {},
   "outputs": [],
   "source": [
    "# display all columns\n",
    "pd.set_option('display.max_columns', None)\n",
    "df_offer_merged.drop(['user_id', 'time_received', 'time_completed', 'time_diff', 'offer_type', 'offer_name', 'age', 'became_member_on', 'gender', 'income', 'became_member_year', 'income_group'], axis = 1, inplace = True)"
   ]
  },
  {
   "cell_type": "code",
   "execution_count": 65,
   "metadata": {},
   "outputs": [
    {
     "name": "stdout",
     "output_type": "stream",
     "text": [
      "<class 'pandas.core.frame.DataFrame'>\n",
      "Int64Index: 65527 entries, 0 to 65526\n",
      "Data columns (total 28 columns):\n",
      "success          65527 non-null int64\n",
      "difficulty       65527 non-null int64\n",
      "duration         65527 non-null int64\n",
      "reward           65527 non-null int64\n",
      "bogo             65527 non-null uint8\n",
      "discount         65527 non-null uint8\n",
      "informational    65527 non-null uint8\n",
      "email            65527 non-null int64\n",
      "mobile           65527 non-null int64\n",
      "social           65527 non-null int64\n",
      "web              65527 non-null int64\n",
      "member_days      65527 non-null int64\n",
      "F                65527 non-null uint8\n",
      "M                65527 non-null uint8\n",
      "O                65527 non-null uint8\n",
      "10s              65527 non-null int64\n",
      "20s              65527 non-null int64\n",
      "30s              65527 non-null int64\n",
      "40s              65527 non-null int64\n",
      "50s              65527 non-null int64\n",
      "60s              65527 non-null int64\n",
      "70s              65527 non-null int64\n",
      "80s              65527 non-null int64\n",
      "90s              65527 non-null int64\n",
      "100s             65527 non-null int64\n",
      "high             65527 non-null uint8\n",
      "low              65527 non-null uint8\n",
      "medium           65527 non-null uint8\n",
      "dtypes: int64(19), uint8(9)\n",
      "memory usage: 10.6 MB\n"
     ]
    }
   ],
   "source": [
    "df_offer_merged.info()"
   ]
  },
  {
   "cell_type": "code",
   "execution_count": 66,
   "metadata": {},
   "outputs": [],
   "source": [
    "# normalize columns 'duration' and 'member_days'\n",
    "# https://www.geeksforgeeks.org/normalize-a-column-in-pandas/\n",
    "df_offer_merged['duration'] = df_offer_merged['duration'] / df_offer_merged['duration'].abs().max()\n",
    "df_offer_merged['member_days'] = df_offer_merged['member_days'] / df_offer_merged['member_days'].abs().max()\n",
    "df_offer_merged['difficulty'] = df_offer_merged['difficulty'] / df_offer_merged['difficulty'].abs().max()\n",
    "df_offer_merged['reward'] = df_offer_merged['reward'] / df_offer_merged['reward'].abs().max()"
   ]
  },
  {
   "cell_type": "code",
   "execution_count": 67,
   "metadata": {},
   "outputs": [],
   "source": [
    "# split Dataframe df into X and y\n",
    "X = df_offer_merged.iloc[:, 1:]\n",
    "y = df_offer_merged['success']"
   ]
  },
  {
   "cell_type": "code",
   "execution_count": 68,
   "metadata": {},
   "outputs": [],
   "source": [
    "# split data into training and test data\n",
    "X_train, X_test, y_train, y_test = train_test_split(X, y)"
   ]
  },
  {
   "cell_type": "code",
   "execution_count": 69,
   "metadata": {},
   "outputs": [],
   "source": [
    "# use RandomForestClassifier and GradientBoostingClassifier as a classifier\n",
    "rfc = RandomForestClassifier(random_state = 42)\n",
    "gbc = GradientBoostingClassifier(random_state = 42)"
   ]
  },
  {
   "cell_type": "code",
   "execution_count": 70,
   "metadata": {},
   "outputs": [
    {
     "data": {
      "text/plain": [
       "GradientBoostingClassifier(criterion='friedman_mse', init=None,\n",
       "              learning_rate=0.1, loss='deviance', max_depth=3,\n",
       "              max_features=None, max_leaf_nodes=None,\n",
       "              min_impurity_decrease=0.0, min_impurity_split=None,\n",
       "              min_samples_leaf=1, min_samples_split=2,\n",
       "              min_weight_fraction_leaf=0.0, n_estimators=100,\n",
       "              presort='auto', random_state=42, subsample=1.0, verbose=0,\n",
       "              warm_start=False)"
      ]
     },
     "execution_count": 70,
     "metadata": {},
     "output_type": "execute_result"
    }
   ],
   "source": [
    "# train baisc models\n",
    "rfc.fit(X_train, y_train)\n",
    "gbc.fit(X_train, y_train)"
   ]
  },
  {
   "cell_type": "code",
   "execution_count": 71,
   "metadata": {},
   "outputs": [],
   "source": [
    "# predict responses for basic models\n",
    "rfc_y_pred = rfc.predict(X_test)\n",
    "gbc_y_pred = gbc.predict(X_test)"
   ]
  },
  {
   "cell_type": "code",
   "execution_count": 72,
   "metadata": {},
   "outputs": [
    {
     "name": "stdout",
     "output_type": "stream",
     "text": [
      "Accuracy for RandomForestClassifier: 0.774154878926\n",
      "Accuracy for GradientBoostingClassifier: 0.797380410023\n"
     ]
    }
   ],
   "source": [
    "print('Accuracy for RandomForestClassifier:', f1_score(y_test, rfc_y_pred))\n",
    "print('Accuracy for GradientBoostingClassifier:', f1_score(y_test, gbc_y_pred))"
   ]
  },
  {
   "cell_type": "markdown",
   "metadata": {},
   "source": [
    "The GradientBoostingClassifier outperforms the RandomForestClassifier. Hence, I'll go ahead and improve the better performing GradientBoostingClassifier classifier by using hyperparameter tuning. Cross validation is used to avoid overfitting."
   ]
  },
  {
   "cell_type": "code",
   "execution_count": 73,
   "metadata": {},
   "outputs": [
    {
     "data": {
      "text/plain": [
       "{'criterion': 'friedman_mse',\n",
       " 'init': None,\n",
       " 'learning_rate': 0.1,\n",
       " 'loss': 'deviance',\n",
       " 'max_depth': 3,\n",
       " 'max_features': None,\n",
       " 'max_leaf_nodes': None,\n",
       " 'min_impurity_decrease': 0.0,\n",
       " 'min_impurity_split': None,\n",
       " 'min_samples_leaf': 1,\n",
       " 'min_samples_split': 2,\n",
       " 'min_weight_fraction_leaf': 0.0,\n",
       " 'n_estimators': 100,\n",
       " 'presort': 'auto',\n",
       " 'random_state': 42,\n",
       " 'subsample': 1.0,\n",
       " 'verbose': 0,\n",
       " 'warm_start': False}"
      ]
     },
     "execution_count": 73,
     "metadata": {},
     "output_type": "execute_result"
    }
   ],
   "source": [
    "gbc.get_params()"
   ]
  },
  {
   "cell_type": "code",
   "execution_count": 74,
   "metadata": {},
   "outputs": [],
   "source": [
    "# hyperparameter tuning and cross validation\n",
    "parameters = {\n",
    "    'n_estimators': [50, 100, 150, 200],\n",
    "    'min_samples_split': [2, 5, 7],\n",
    "    'max_depth' : [5, 6, 7, 8]\n",
    "}\n",
    "cv_gbc = GridSearchCV(gbc, param_grid = parameters, cv = 3, verbose = 2, n_jobs = 4)"
   ]
  },
  {
   "cell_type": "code",
   "execution_count": 75,
   "metadata": {},
   "outputs": [
    {
     "name": "stdout",
     "output_type": "stream",
     "text": [
      "Fitting 3 folds for each of 48 candidates, totalling 144 fits\n",
      "[CV] max_depth=5, min_samples_split=2, n_estimators=50 ...............\n",
      "[CV] max_depth=5, min_samples_split=2, n_estimators=50 ...............\n",
      "[CV] max_depth=5, min_samples_split=2, n_estimators=50 ...............\n",
      "[CV] max_depth=5, min_samples_split=2, n_estimators=100 ..............\n",
      "[CV]  max_depth=5, min_samples_split=2, n_estimators=50, total=  13.8s\n",
      "[CV] max_depth=5, min_samples_split=2, n_estimators=100 ..............\n",
      "[CV]  max_depth=5, min_samples_split=2, n_estimators=50, total=  14.1s\n",
      "[CV] max_depth=5, min_samples_split=2, n_estimators=100 ..............\n",
      "[CV]  max_depth=5, min_samples_split=2, n_estimators=50, total=  14.3s\n",
      "[CV] max_depth=5, min_samples_split=2, n_estimators=150 ..............\n",
      "[CV]  max_depth=5, min_samples_split=2, n_estimators=100, total=  27.8s\n",
      "[CV] max_depth=5, min_samples_split=2, n_estimators=150 ..............\n",
      "[CV]  max_depth=5, min_samples_split=2, n_estimators=100, total=  27.5s\n",
      "[CV] max_depth=5, min_samples_split=2, n_estimators=150 ..............\n",
      "[CV]  max_depth=5, min_samples_split=2, n_estimators=100, total=  28.5s\n",
      "[CV] max_depth=5, min_samples_split=2, n_estimators=200 ..............\n",
      "[CV]  max_depth=5, min_samples_split=2, n_estimators=150, total=  41.4s\n",
      "[CV] max_depth=5, min_samples_split=2, n_estimators=200 ..............\n",
      "[CV]  max_depth=5, min_samples_split=2, n_estimators=150, total=  41.6s\n",
      "[CV] max_depth=5, min_samples_split=2, n_estimators=200 ..............\n",
      "[CV]  max_depth=5, min_samples_split=2, n_estimators=150, total=  42.5s\n",
      "[CV] max_depth=5, min_samples_split=5, n_estimators=50 ...............\n",
      "[CV]  max_depth=5, min_samples_split=2, n_estimators=200, total=  54.5s\n",
      "[CV] max_depth=5, min_samples_split=5, n_estimators=50 ...............\n",
      "[CV]  max_depth=5, min_samples_split=5, n_estimators=50, total=  14.0s\n",
      "[CV] max_depth=5, min_samples_split=5, n_estimators=50 ...............\n",
      "[CV]  max_depth=5, min_samples_split=2, n_estimators=200, total=  53.2s\n",
      "[CV] max_depth=5, min_samples_split=5, n_estimators=100 ..............\n",
      "[CV]  max_depth=5, min_samples_split=5, n_estimators=50, total=  13.5s\n",
      "[CV] max_depth=5, min_samples_split=5, n_estimators=100 ..............\n",
      "[CV]  max_depth=5, min_samples_split=5, n_estimators=50, total=  14.0s\n",
      "[CV] max_depth=5, min_samples_split=5, n_estimators=100 ..............\n",
      "[CV]  max_depth=5, min_samples_split=2, n_estimators=200, total=  55.3s\n",
      "[CV] max_depth=5, min_samples_split=5, n_estimators=150 ..............\n",
      "[CV]  max_depth=5, min_samples_split=5, n_estimators=100, total=  30.2s\n",
      "[CV] max_depth=5, min_samples_split=5, n_estimators=150 ..............\n",
      "[CV]  max_depth=5, min_samples_split=5, n_estimators=100, total=  30.4s\n",
      "[CV] max_depth=5, min_samples_split=5, n_estimators=150 ..............\n",
      "[CV]  max_depth=5, min_samples_split=5, n_estimators=100, total=  31.0s\n",
      "[CV] max_depth=5, min_samples_split=5, n_estimators=200 ..............\n",
      "[CV]  max_depth=5, min_samples_split=5, n_estimators=150, total=  45.2s\n",
      "[CV] max_depth=5, min_samples_split=5, n_estimators=200 ..............\n",
      "[CV]  max_depth=5, min_samples_split=5, n_estimators=150, total=  43.2s\n",
      "[CV] max_depth=5, min_samples_split=5, n_estimators=200 ..............\n",
      "[CV]  max_depth=5, min_samples_split=5, n_estimators=150, total=  43.4s\n",
      "[CV] max_depth=5, min_samples_split=7, n_estimators=50 ...............\n",
      "[CV]  max_depth=5, min_samples_split=7, n_estimators=50, total=  16.9s\n",
      "[CV] max_depth=5, min_samples_split=7, n_estimators=50 ...............\n",
      "[CV]  max_depth=5, min_samples_split=5, n_estimators=200, total=  58.6s\n",
      "[CV] max_depth=5, min_samples_split=7, n_estimators=50 ...............\n",
      "[CV]  max_depth=5, min_samples_split=7, n_estimators=50, total=  14.1s\n",
      "[CV] max_depth=5, min_samples_split=7, n_estimators=100 ..............\n",
      "[CV]  max_depth=5, min_samples_split=7, n_estimators=50, total=  14.4s\n",
      "[CV] max_depth=5, min_samples_split=7, n_estimators=100 ..............\n",
      "[CV]  max_depth=5, min_samples_split=5, n_estimators=200, total=  57.1s\n",
      "[CV] max_depth=5, min_samples_split=7, n_estimators=100 ..............\n",
      "[CV]  max_depth=5, min_samples_split=5, n_estimators=200, total=  58.0s\n",
      "[CV] max_depth=5, min_samples_split=7, n_estimators=150 ..............\n",
      "[CV]  max_depth=5, min_samples_split=7, n_estimators=100, total=  27.5s\n",
      "[CV] max_depth=5, min_samples_split=7, n_estimators=150 ..............\n",
      "[CV]  max_depth=5, min_samples_split=7, n_estimators=100, total=  27.0s\n",
      "[CV] max_depth=5, min_samples_split=7, n_estimators=150 ..............\n",
      "[CV]  max_depth=5, min_samples_split=7, n_estimators=100, total=  27.7s\n",
      "[CV] max_depth=5, min_samples_split=7, n_estimators=200 ..............\n",
      "[CV]  max_depth=5, min_samples_split=7, n_estimators=150, total=  40.7s\n",
      "[CV] max_depth=5, min_samples_split=7, n_estimators=200 ..............\n",
      "[CV]  max_depth=5, min_samples_split=7, n_estimators=150, total=  40.2s\n",
      "[CV] max_depth=5, min_samples_split=7, n_estimators=200 ..............\n",
      "[CV]  max_depth=5, min_samples_split=7, n_estimators=150, total=  40.8s\n",
      "[CV] max_depth=6, min_samples_split=2, n_estimators=50 ...............\n"
     ]
    },
    {
     "name": "stderr",
     "output_type": "stream",
     "text": [
      "[Parallel(n_jobs=4)]: Done  33 tasks      | elapsed:  4.8min\n"
     ]
    },
    {
     "name": "stdout",
     "output_type": "stream",
     "text": [
      "[CV]  max_depth=6, min_samples_split=2, n_estimators=50, total=  23.1s\n",
      "[CV] max_depth=6, min_samples_split=2, n_estimators=50 ...............\n",
      "[CV]  max_depth=5, min_samples_split=7, n_estimators=200, total=  58.9s\n",
      "[CV] max_depth=6, min_samples_split=2, n_estimators=50 ...............\n",
      "[CV]  max_depth=6, min_samples_split=2, n_estimators=50, total=  20.0s\n",
      "[CV] max_depth=6, min_samples_split=2, n_estimators=100 ..............\n",
      "[CV]  max_depth=6, min_samples_split=2, n_estimators=50, total=  19.2s\n",
      "[CV] max_depth=6, min_samples_split=2, n_estimators=100 ..............\n",
      "[CV]  max_depth=5, min_samples_split=7, n_estimators=200, total=  58.4s\n",
      "[CV] max_depth=6, min_samples_split=2, n_estimators=100 ..............\n",
      "[CV]  max_depth=5, min_samples_split=7, n_estimators=200, total=  58.9s\n",
      "[CV] max_depth=6, min_samples_split=2, n_estimators=150 ..............\n",
      "[CV]  max_depth=6, min_samples_split=2, n_estimators=100, total=  45.0s\n",
      "[CV] max_depth=6, min_samples_split=2, n_estimators=150 ..............\n",
      "[CV]  max_depth=6, min_samples_split=2, n_estimators=100, total=  43.9s\n",
      "[CV] max_depth=6, min_samples_split=2, n_estimators=150 ..............\n",
      "[CV]  max_depth=6, min_samples_split=2, n_estimators=100, total=  43.8s\n",
      "[CV] max_depth=6, min_samples_split=2, n_estimators=200 ..............\n",
      "[CV]  max_depth=6, min_samples_split=2, n_estimators=150, total= 1.1min\n",
      "[CV] max_depth=6, min_samples_split=2, n_estimators=200 ..............\n",
      "[CV]  max_depth=6, min_samples_split=2, n_estimators=150, total=  57.2s\n",
      "[CV] max_depth=6, min_samples_split=2, n_estimators=200 ..............\n",
      "[CV]  max_depth=6, min_samples_split=2, n_estimators=150, total=  56.9s\n",
      "[CV] max_depth=6, min_samples_split=5, n_estimators=50 ...............\n",
      "[CV]  max_depth=6, min_samples_split=5, n_estimators=50, total=  19.3s\n",
      "[CV] max_depth=6, min_samples_split=5, n_estimators=50 ...............\n",
      "[CV]  max_depth=6, min_samples_split=2, n_estimators=200, total= 1.3min\n",
      "[CV] max_depth=6, min_samples_split=5, n_estimators=50 ...............\n",
      "[CV]  max_depth=6, min_samples_split=5, n_estimators=50, total=  23.2s\n",
      "[CV] max_depth=6, min_samples_split=5, n_estimators=100 ..............\n",
      "[CV]  max_depth=6, min_samples_split=5, n_estimators=50, total=  21.4s\n",
      "[CV] max_depth=6, min_samples_split=5, n_estimators=100 ..............\n",
      "[CV]  max_depth=6, min_samples_split=2, n_estimators=200, total= 1.3min\n",
      "[CV] max_depth=6, min_samples_split=5, n_estimators=100 ..............\n",
      "[CV]  max_depth=6, min_samples_split=2, n_estimators=200, total= 1.4min\n",
      "[CV] max_depth=6, min_samples_split=5, n_estimators=150 ..............\n",
      "[CV]  max_depth=6, min_samples_split=5, n_estimators=100, total=  40.2s\n",
      "[CV] max_depth=6, min_samples_split=5, n_estimators=150 ..............\n",
      "[CV]  max_depth=6, min_samples_split=5, n_estimators=100, total=  41.1s\n",
      "[CV] max_depth=6, min_samples_split=5, n_estimators=150 ..............\n",
      "[CV]  max_depth=6, min_samples_split=5, n_estimators=100, total=  42.2s\n",
      "[CV] max_depth=6, min_samples_split=5, n_estimators=200 ..............\n",
      "[CV]  max_depth=6, min_samples_split=5, n_estimators=150, total=  57.6s\n",
      "[CV] max_depth=6, min_samples_split=5, n_estimators=200 ..............\n",
      "[CV]  max_depth=6, min_samples_split=5, n_estimators=150, total=  54.1s\n",
      "[CV] max_depth=6, min_samples_split=5, n_estimators=200 ..............\n",
      "[CV]  max_depth=6, min_samples_split=5, n_estimators=150, total=  53.1s\n",
      "[CV] max_depth=6, min_samples_split=7, n_estimators=50 ...............\n",
      "[CV]  max_depth=6, min_samples_split=7, n_estimators=50, total=  17.9s\n",
      "[CV] max_depth=6, min_samples_split=7, n_estimators=50 ...............\n",
      "[CV]  max_depth=6, min_samples_split=5, n_estimators=200, total= 1.2min\n",
      "[CV] max_depth=6, min_samples_split=7, n_estimators=50 ...............\n",
      "[CV]  max_depth=6, min_samples_split=7, n_estimators=50, total=  18.2s\n",
      "[CV] max_depth=6, min_samples_split=7, n_estimators=100 ..............\n",
      "[CV]  max_depth=6, min_samples_split=7, n_estimators=50, total=  19.2s\n",
      "[CV] max_depth=6, min_samples_split=7, n_estimators=100 ..............\n",
      "[CV]  max_depth=6, min_samples_split=5, n_estimators=200, total= 1.3min\n",
      "[CV] max_depth=6, min_samples_split=7, n_estimators=100 ..............\n",
      "[CV]  max_depth=6, min_samples_split=5, n_estimators=200, total= 1.3min\n",
      "[CV] max_depth=6, min_samples_split=7, n_estimators=150 ..............\n",
      "[CV]  max_depth=6, min_samples_split=7, n_estimators=100, total=  41.2s\n",
      "[CV] max_depth=6, min_samples_split=7, n_estimators=150 ..............\n",
      "[CV]  max_depth=6, min_samples_split=7, n_estimators=100, total=  39.1s\n",
      "[CV] max_depth=6, min_samples_split=7, n_estimators=150 ..............\n",
      "[CV]  max_depth=6, min_samples_split=7, n_estimators=100, total=  38.2s\n",
      "[CV] max_depth=6, min_samples_split=7, n_estimators=200 ..............\n",
      "[CV]  max_depth=6, min_samples_split=7, n_estimators=150, total=  56.1s\n",
      "[CV] max_depth=6, min_samples_split=7, n_estimators=200 ..............\n",
      "[CV]  max_depth=6, min_samples_split=7, n_estimators=150, total=  54.5s\n",
      "[CV] max_depth=6, min_samples_split=7, n_estimators=200 ..............\n",
      "[CV]  max_depth=6, min_samples_split=7, n_estimators=150, total=  55.6s\n",
      "[CV] max_depth=7, min_samples_split=2, n_estimators=50 ...............\n",
      "[CV]  max_depth=7, min_samples_split=2, n_estimators=50, total=  24.9s\n",
      "[CV] max_depth=7, min_samples_split=2, n_estimators=50 ...............\n",
      "[CV]  max_depth=6, min_samples_split=7, n_estimators=200, total= 1.2min\n",
      "[CV] max_depth=7, min_samples_split=2, n_estimators=50 ...............\n",
      "[CV]  max_depth=7, min_samples_split=2, n_estimators=50, total=  24.7s\n",
      "[CV] max_depth=7, min_samples_split=2, n_estimators=100 ..............\n",
      "[CV]  max_depth=6, min_samples_split=7, n_estimators=200, total= 1.2min\n",
      "[CV] max_depth=7, min_samples_split=2, n_estimators=100 ..............\n",
      "[CV]  max_depth=7, min_samples_split=2, n_estimators=50, total=  25.8s\n",
      "[CV] max_depth=7, min_samples_split=2, n_estimators=100 ..............\n",
      "[CV]  max_depth=6, min_samples_split=7, n_estimators=200, total= 1.2min\n",
      "[CV] max_depth=7, min_samples_split=2, n_estimators=150 ..............\n",
      "[CV]  max_depth=7, min_samples_split=2, n_estimators=100, total=  59.1s\n",
      "[CV] max_depth=7, min_samples_split=2, n_estimators=150 ..............\n",
      "[CV]  max_depth=7, min_samples_split=2, n_estimators=100, total= 1.0min\n",
      "[CV] max_depth=7, min_samples_split=2, n_estimators=150 ..............\n",
      "[CV]  max_depth=7, min_samples_split=2, n_estimators=100, total=  59.6s\n",
      "[CV] max_depth=7, min_samples_split=2, n_estimators=200 ..............\n",
      "[CV]  max_depth=7, min_samples_split=2, n_estimators=150, total= 1.4min\n",
      "[CV] max_depth=7, min_samples_split=2, n_estimators=200 ..............\n",
      "[CV]  max_depth=7, min_samples_split=2, n_estimators=150, total= 1.3min\n",
      "[CV] max_depth=7, min_samples_split=2, n_estimators=200 ..............\n",
      "[CV]  max_depth=7, min_samples_split=2, n_estimators=150, total= 1.2min\n",
      "[CV] max_depth=7, min_samples_split=5, n_estimators=50 ...............\n",
      "[CV]  max_depth=7, min_samples_split=5, n_estimators=50, total=  24.1s\n",
      "[CV] max_depth=7, min_samples_split=5, n_estimators=50 ...............\n",
      "[CV]  max_depth=7, min_samples_split=2, n_estimators=200, total= 1.7min\n",
      "[CV] max_depth=7, min_samples_split=5, n_estimators=50 ...............\n",
      "[CV]  max_depth=7, min_samples_split=5, n_estimators=50, total=  28.8s\n",
      "[CV] max_depth=7, min_samples_split=5, n_estimators=100 ..............\n",
      "[CV]  max_depth=7, min_samples_split=5, n_estimators=50, total=  27.5s\n",
      "[CV] max_depth=7, min_samples_split=5, n_estimators=100 ..............\n",
      "[CV]  max_depth=7, min_samples_split=2, n_estimators=200, total= 1.8min\n",
      "[CV] max_depth=7, min_samples_split=5, n_estimators=100 ..............\n",
      "[CV]  max_depth=7, min_samples_split=2, n_estimators=200, total= 1.7min\n",
      "[CV] max_depth=7, min_samples_split=5, n_estimators=150 ..............\n",
      "[CV]  max_depth=7, min_samples_split=5, n_estimators=100, total=  51.0s\n",
      "[CV] max_depth=7, min_samples_split=5, n_estimators=150 ..............\n",
      "[CV]  max_depth=7, min_samples_split=5, n_estimators=100, total=  49.4s\n",
      "[CV] max_depth=7, min_samples_split=5, n_estimators=150 ..............\n",
      "[CV]  max_depth=7, min_samples_split=5, n_estimators=100, total=  49.0s\n",
      "[CV] max_depth=7, min_samples_split=5, n_estimators=200 ..............\n",
      "[CV]  max_depth=7, min_samples_split=5, n_estimators=150, total= 1.2min\n",
      "[CV] max_depth=7, min_samples_split=5, n_estimators=200 ..............\n",
      "[CV]  max_depth=7, min_samples_split=5, n_estimators=150, total= 1.2min\n",
      "[CV] max_depth=7, min_samples_split=5, n_estimators=200 ..............\n",
      "[CV]  max_depth=7, min_samples_split=5, n_estimators=150, total= 1.2min\n",
      "[CV] max_depth=7, min_samples_split=7, n_estimators=50 ...............\n",
      "[CV]  max_depth=7, min_samples_split=7, n_estimators=50, total=  28.8s\n",
      "[CV] max_depth=7, min_samples_split=7, n_estimators=50 ...............\n",
      "[CV]  max_depth=7, min_samples_split=5, n_estimators=200, total= 1.7min\n",
      "[CV] max_depth=7, min_samples_split=7, n_estimators=50 ...............\n",
      "[CV]  max_depth=7, min_samples_split=7, n_estimators=50, total=  26.1s\n",
      "[CV] max_depth=7, min_samples_split=7, n_estimators=100 ..............\n",
      "[CV]  max_depth=7, min_samples_split=7, n_estimators=50, total=  24.4s\n",
      "[CV] max_depth=7, min_samples_split=7, n_estimators=100 ..............\n",
      "[CV]  max_depth=7, min_samples_split=5, n_estimators=200, total= 1.7min\n",
      "[CV] max_depth=7, min_samples_split=7, n_estimators=100 ..............\n",
      "[CV]  max_depth=7, min_samples_split=5, n_estimators=200, total= 1.7min\n",
      "[CV] max_depth=7, min_samples_split=7, n_estimators=150 ..............\n",
      "[CV]  max_depth=7, min_samples_split=7, n_estimators=100, total=  49.5s\n",
      "[CV] max_depth=7, min_samples_split=7, n_estimators=150 ..............\n",
      "[CV]  max_depth=7, min_samples_split=7, n_estimators=100, total=  49.3s\n",
      "[CV] max_depth=7, min_samples_split=7, n_estimators=150 ..............\n",
      "[CV]  max_depth=7, min_samples_split=7, n_estimators=100, total=  48.7s\n",
      "[CV] max_depth=7, min_samples_split=7, n_estimators=200 ..............\n",
      "[CV]  max_depth=7, min_samples_split=7, n_estimators=150, total= 1.3min\n",
      "[CV] max_depth=7, min_samples_split=7, n_estimators=200 ..............\n",
      "[CV]  max_depth=7, min_samples_split=7, n_estimators=150, total= 1.3min\n",
      "[CV] max_depth=7, min_samples_split=7, n_estimators=200 ..............\n",
      "[CV]  max_depth=7, min_samples_split=7, n_estimators=150, total= 1.3min\n",
      "[CV] max_depth=8, min_samples_split=2, n_estimators=50 ...............\n",
      "[CV]  max_depth=8, min_samples_split=2, n_estimators=50, total=  36.5s\n",
      "[CV] max_depth=8, min_samples_split=2, n_estimators=50 ...............\n",
      "[CV]  max_depth=7, min_samples_split=7, n_estimators=200, total= 1.8min\n",
      "[CV] max_depth=8, min_samples_split=2, n_estimators=50 ...............\n",
      "[CV]  max_depth=8, min_samples_split=2, n_estimators=50, total=  33.9s\n",
      "[CV] max_depth=8, min_samples_split=2, n_estimators=100 ..............\n",
      "[CV]  max_depth=7, min_samples_split=7, n_estimators=200, total= 1.7min\n",
      "[CV] max_depth=8, min_samples_split=2, n_estimators=100 ..............\n",
      "[CV]  max_depth=8, min_samples_split=2, n_estimators=50, total=  34.3s\n",
      "[CV] max_depth=8, min_samples_split=2, n_estimators=100 ..............\n",
      "[CV]  max_depth=7, min_samples_split=7, n_estimators=200, total= 1.7min\n",
      "[CV] max_depth=8, min_samples_split=2, n_estimators=150 ..............\n",
      "[CV]  max_depth=8, min_samples_split=2, n_estimators=100, total= 1.2min\n",
      "[CV] max_depth=8, min_samples_split=2, n_estimators=150 ..............\n",
      "[CV]  max_depth=8, min_samples_split=2, n_estimators=100, total= 1.2min\n",
      "[CV] max_depth=8, min_samples_split=2, n_estimators=150 ..............\n",
      "[CV]  max_depth=8, min_samples_split=2, n_estimators=100, total= 1.2min\n",
      "[CV] max_depth=8, min_samples_split=2, n_estimators=200 ..............\n",
      "[CV]  max_depth=8, min_samples_split=2, n_estimators=150, total= 1.8min\n",
      "[CV] max_depth=8, min_samples_split=2, n_estimators=200 ..............\n",
      "[CV]  max_depth=8, min_samples_split=2, n_estimators=150, total= 1.9min\n",
      "[CV] max_depth=8, min_samples_split=2, n_estimators=200 ..............\n",
      "[CV]  max_depth=8, min_samples_split=2, n_estimators=150, total= 1.8min\n",
      "[CV] max_depth=8, min_samples_split=5, n_estimators=50 ...............\n",
      "[CV]  max_depth=8, min_samples_split=5, n_estimators=50, total=  35.6s\n",
      "[CV] max_depth=8, min_samples_split=5, n_estimators=50 ...............\n",
      "[CV]  max_depth=8, min_samples_split=2, n_estimators=200, total= 2.5min\n",
      "[CV] max_depth=8, min_samples_split=5, n_estimators=50 ...............\n",
      "[CV]  max_depth=8, min_samples_split=5, n_estimators=50, total=  38.2s\n",
      "[CV] max_depth=8, min_samples_split=5, n_estimators=100 ..............\n",
      "[CV]  max_depth=8, min_samples_split=5, n_estimators=50, total=  39.2s\n",
      "[CV] max_depth=8, min_samples_split=5, n_estimators=100 ..............\n",
      "[CV]  max_depth=8, min_samples_split=2, n_estimators=200, total= 2.5min\n",
      "[CV] max_depth=8, min_samples_split=5, n_estimators=100 ..............\n",
      "[CV]  max_depth=8, min_samples_split=2, n_estimators=200, total= 2.5min\n",
      "[CV] max_depth=8, min_samples_split=5, n_estimators=150 ..............\n",
      "[CV]  max_depth=8, min_samples_split=5, n_estimators=100, total= 1.2min\n",
      "[CV] max_depth=8, min_samples_split=5, n_estimators=150 ..............\n",
      "[CV]  max_depth=8, min_samples_split=5, n_estimators=100, total= 1.1min\n",
      "[CV] max_depth=8, min_samples_split=5, n_estimators=150 ..............\n",
      "[CV]  max_depth=8, min_samples_split=5, n_estimators=100, total= 1.1min\n",
      "[CV] max_depth=8, min_samples_split=5, n_estimators=200 ..............\n",
      "[CV]  max_depth=8, min_samples_split=5, n_estimators=150, total= 1.9min\n",
      "[CV] max_depth=8, min_samples_split=5, n_estimators=200 ..............\n",
      "[CV]  max_depth=8, min_samples_split=5, n_estimators=150, total= 1.9min\n",
      "[CV] max_depth=8, min_samples_split=5, n_estimators=200 ..............\n",
      "[CV]  max_depth=8, min_samples_split=5, n_estimators=150, total= 1.9min\n",
      "[CV] max_depth=8, min_samples_split=7, n_estimators=50 ...............\n",
      "[CV]  max_depth=8, min_samples_split=7, n_estimators=50, total=  33.5s\n",
      "[CV] max_depth=8, min_samples_split=7, n_estimators=50 ...............\n",
      "[CV]  max_depth=8, min_samples_split=5, n_estimators=200, total= 2.4min\n",
      "[CV] max_depth=8, min_samples_split=7, n_estimators=50 ...............\n",
      "[CV]  max_depth=8, min_samples_split=7, n_estimators=50, total=  41.2s\n",
      "[CV] max_depth=8, min_samples_split=7, n_estimators=100 ..............\n",
      "[CV]  max_depth=8, min_samples_split=7, n_estimators=50, total=  44.1s\n",
      "[CV] max_depth=8, min_samples_split=7, n_estimators=100 ..............\n",
      "[CV]  max_depth=8, min_samples_split=5, n_estimators=200, total= 2.5min\n",
      "[CV] max_depth=8, min_samples_split=7, n_estimators=100 ..............\n",
      "[CV]  max_depth=8, min_samples_split=5, n_estimators=200, total= 2.5min\n",
      "[CV] max_depth=8, min_samples_split=7, n_estimators=150 ..............\n",
      "[CV]  max_depth=8, min_samples_split=7, n_estimators=100, total= 1.3min\n",
      "[CV] max_depth=8, min_samples_split=7, n_estimators=150 ..............\n",
      "[CV]  max_depth=8, min_samples_split=7, n_estimators=100, total= 1.2min\n",
      "[CV] max_depth=8, min_samples_split=7, n_estimators=150 ..............\n",
      "[CV]  max_depth=8, min_samples_split=7, n_estimators=100, total= 1.2min\n",
      "[CV] max_depth=8, min_samples_split=7, n_estimators=200 ..............\n",
      "[CV]  max_depth=8, min_samples_split=7, n_estimators=150, total= 2.0min\n",
      "[CV] max_depth=8, min_samples_split=7, n_estimators=200 ..............\n",
      "[CV]  max_depth=8, min_samples_split=7, n_estimators=150, total= 2.0min\n",
      "[CV] max_depth=8, min_samples_split=7, n_estimators=200 ..............\n",
      "[CV]  max_depth=8, min_samples_split=7, n_estimators=150, total= 2.0min\n",
      "[CV]  max_depth=8, min_samples_split=7, n_estimators=200, total= 2.3min\n",
      "[CV]  max_depth=8, min_samples_split=7, n_estimators=200, total= 1.6min\n",
      "[CV]  max_depth=8, min_samples_split=7, n_estimators=200, total= 1.5min\n"
     ]
    },
    {
     "name": "stderr",
     "output_type": "stream",
     "text": [
      "[Parallel(n_jobs=4)]: Done 144 out of 144 | elapsed: 36.6min finished\n"
     ]
    },
    {
     "data": {
      "text/plain": [
       "GridSearchCV(cv=3, error_score='raise',\n",
       "       estimator=GradientBoostingClassifier(criterion='friedman_mse', init=None,\n",
       "              learning_rate=0.1, loss='deviance', max_depth=3,\n",
       "              max_features=None, max_leaf_nodes=None,\n",
       "              min_impurity_decrease=0.0, min_impurity_split=None,\n",
       "              min_samples_leaf=1, min_samples_split=2,\n",
       "              min_weight_fraction_leaf=0.0, n_estimators=100,\n",
       "              presort='auto', random_state=42, subsample=1.0, verbose=0,\n",
       "              warm_start=False),\n",
       "       fit_params=None, iid=True, n_jobs=4,\n",
       "       param_grid={'n_estimators': [50, 100, 150, 200], 'min_samples_split': [2, 5, 7], 'max_depth': [5, 6, 7, 8]},\n",
       "       pre_dispatch='2*n_jobs', refit=True, return_train_score='warn',\n",
       "       scoring=None, verbose=2)"
      ]
     },
     "execution_count": 75,
     "metadata": {},
     "output_type": "execute_result"
    }
   ],
   "source": [
    "# train improved model\n",
    "cv_gbc.fit(X_train, y_train)"
   ]
  },
  {
   "cell_type": "code",
   "execution_count": 76,
   "metadata": {},
   "outputs": [
    {
     "data": {
      "text/plain": [
       "{'max_depth': 8, 'min_samples_split': 2, 'n_estimators': 200}"
      ]
     },
     "execution_count": 76,
     "metadata": {},
     "output_type": "execute_result"
    }
   ],
   "source": [
    "# display the best performing parameters\n",
    "cv_gbc.best_params_"
   ]
  },
  {
   "cell_type": "code",
   "execution_count": 77,
   "metadata": {},
   "outputs": [],
   "source": [
    "# predict responses for improved model\n",
    "y_pred = cv_gbc.predict(X_test)"
   ]
  },
  {
   "cell_type": "code",
   "execution_count": 78,
   "metadata": {},
   "outputs": [
    {
     "name": "stdout",
     "output_type": "stream",
     "text": [
      "Accuracy: 0.8134735874\n"
     ]
    }
   ],
   "source": [
    "print('Accuracy:', f1_score(y_test, y_pred))"
   ]
  },
  {
   "cell_type": "markdown",
   "metadata": {},
   "source": [
    "Using GridSearchCV improves the GradientBoostingClassifier by around 1.5%."
   ]
  },
  {
   "cell_type": "markdown",
   "metadata": {},
   "source": [
    "# 4. Summary"
   ]
  },
  {
   "cell_type": "markdown",
   "metadata": {},
   "source": [
    "In this Capstone project I tried to analyze the socio-demographics of the Starbucks members included in this data set and explore how well certain customers respond to each offer (Bogo or Discount). At the end of this challenge, I build a model that predicts if a member will complete an offer or not.\n",
    "\n",
    "In order to perform the analysis I first had to clean the three data sets, which was the most time consuming part of this challenge. There were some data quality issues present. For example there are 2,175 NULL values in the columns 'gender' and 'income' and members with an age of 118 years included in data set 'profile'. Also certain columns like 'age' or 'income' were transformed into categorical values. Also the transcript data set was split into two separate DataFrames, one called 'transactions' and 'transcript_clean'.\n",
    "\n",
    "After the cleaning process was completed I tried to gain more insights in regards to the socio-demographics of the Starbucks members and how the respond to each individual offer. Here are some insights:\n",
    "\n",
    "- Starbucks has a growing member base every year.\n",
    "- Most of the Starbucks members are in their 50's and 60's.\n",
    "- There are three different gender categories included in this data set (8,484 male, 6,129 female, 212 O or N/A).\n",
    "- Bogo offer have a higher viewing rate than discount offers. Although, discount offers have a higher completion rate than Bogo offers.\n",
    "- Female members have a 10% to 25% higher completion rate then male members consistently across all offer types.\n",
    "- Offers are being completed in average in under 50% of the offer duration.\n",
    "\n",
    "At the end, I compared the RandomForestClassifier to the GradientBoostingClassifier to determine which classifier makes better predictions on how a member responds to offers. The GradientBoostingClassifier outperformed the RandomForestClassifier. Hence, I used the GradientBoostingClassifier and tried to improve it by using hyperparameter tuning through GridSearchCV. The hyperparameter tuning resulted in a 1.5% improvement of the model.\n",
    "\n",
    "If I would like to make further improvements to the model, I would have to revisit the features I used and see if there are any other features that might have an impact on the performance of the model."
   ]
  },
  {
   "cell_type": "code",
   "execution_count": null,
   "metadata": {},
   "outputs": [],
   "source": []
  }
 ],
 "metadata": {
  "kernelspec": {
   "display_name": "Python 3",
   "language": "python",
   "name": "python3"
  },
  "language_info": {
   "codemirror_mode": {
    "name": "ipython",
    "version": 3
   },
   "file_extension": ".py",
   "mimetype": "text/x-python",
   "name": "python",
   "nbconvert_exporter": "python",
   "pygments_lexer": "ipython3",
   "version": "3.6.3"
  }
 },
 "nbformat": 4,
 "nbformat_minor": 2
}
